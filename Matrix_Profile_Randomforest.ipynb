{
  "nbformat": 4,
  "nbformat_minor": 0,
  "metadata": {
    "colab": {
      "provenance": []
    },
    "kernelspec": {
      "name": "python3",
      "display_name": "Python 3"
    },
    "language_info": {
      "name": "python"
    }
  },
  "cells": [
    {
      "cell_type": "code",
      "source": [
        "!pip install matrixprofile"
      ],
      "metadata": {
        "colab": {
          "base_uri": "https://localhost:8080/"
        },
        "id": "ntjmSv3Ru1Mo",
        "outputId": "7b156ae2-c28c-48c1-f52c-e2c53476fad4"
      },
      "execution_count": null,
      "outputs": [
        {
          "output_type": "stream",
          "name": "stdout",
          "text": [
            "Looking in indexes: https://pypi.org/simple, https://us-python.pkg.dev/colab-wheels/public/simple/\n",
            "Collecting matrixprofile\n",
            "  Downloading matrixprofile-1.1.10-cp39-cp39-manylinux2010_x86_64.whl (1.2 MB)\n",
            "\u001b[2K     \u001b[90m━━━━━━━━━━━━━━━━━━━━━━━━━━━━━━━━━━━━━━━━\u001b[0m \u001b[32m1.2/1.2 MB\u001b[0m \u001b[31m16.1 MB/s\u001b[0m eta \u001b[36m0:00:00\u001b[0m\n",
            "\u001b[?25hRequirement already satisfied: matplotlib>=3.0.3 in /usr/local/lib/python3.9/dist-packages (from matrixprofile) (3.7.1)\n",
            "Requirement already satisfied: scipy<2.0.0,>=1.3.2 in /usr/local/lib/python3.9/dist-packages (from matrixprofile) (1.10.1)\n",
            "Collecting protobuf==3.11.2\n",
            "  Downloading protobuf-3.11.2-py2.py3-none-any.whl (434 kB)\n",
            "\u001b[2K     \u001b[90m━━━━━━━━━━━━━━━━━━━━━━━━━━━━━━━━━━━━━━\u001b[0m \u001b[32m434.3/434.3 kB\u001b[0m \u001b[31m39.1 MB/s\u001b[0m eta \u001b[36m0:00:00\u001b[0m\n",
            "\u001b[?25hRequirement already satisfied: numpy>=1.16.2 in /usr/local/lib/python3.9/dist-packages (from matrixprofile) (1.22.4)\n",
            "Requirement already satisfied: six>=1.9 in /usr/local/lib/python3.9/dist-packages (from protobuf==3.11.2->matrixprofile) (1.16.0)\n",
            "Requirement already satisfied: setuptools in /usr/local/lib/python3.9/dist-packages (from protobuf==3.11.2->matrixprofile) (67.6.1)\n",
            "Requirement already satisfied: pyparsing>=2.3.1 in /usr/local/lib/python3.9/dist-packages (from matplotlib>=3.0.3->matrixprofile) (3.0.9)\n",
            "Requirement already satisfied: importlib-resources>=3.2.0 in /usr/local/lib/python3.9/dist-packages (from matplotlib>=3.0.3->matrixprofile) (5.12.0)\n",
            "Requirement already satisfied: fonttools>=4.22.0 in /usr/local/lib/python3.9/dist-packages (from matplotlib>=3.0.3->matrixprofile) (4.39.3)\n",
            "Requirement already satisfied: packaging>=20.0 in /usr/local/lib/python3.9/dist-packages (from matplotlib>=3.0.3->matrixprofile) (23.1)\n",
            "Requirement already satisfied: pillow>=6.2.0 in /usr/local/lib/python3.9/dist-packages (from matplotlib>=3.0.3->matrixprofile) (8.4.0)\n",
            "Requirement already satisfied: kiwisolver>=1.0.1 in /usr/local/lib/python3.9/dist-packages (from matplotlib>=3.0.3->matrixprofile) (1.4.4)\n",
            "Requirement already satisfied: contourpy>=1.0.1 in /usr/local/lib/python3.9/dist-packages (from matplotlib>=3.0.3->matrixprofile) (1.0.7)\n",
            "Requirement already satisfied: cycler>=0.10 in /usr/local/lib/python3.9/dist-packages (from matplotlib>=3.0.3->matrixprofile) (0.11.0)\n",
            "Requirement already satisfied: python-dateutil>=2.7 in /usr/local/lib/python3.9/dist-packages (from matplotlib>=3.0.3->matrixprofile) (2.8.2)\n",
            "Requirement already satisfied: zipp>=3.1.0 in /usr/local/lib/python3.9/dist-packages (from importlib-resources>=3.2.0->matplotlib>=3.0.3->matrixprofile) (3.15.0)\n",
            "Installing collected packages: protobuf, matrixprofile\n",
            "  Attempting uninstall: protobuf\n",
            "    Found existing installation: protobuf 3.20.3\n",
            "    Uninstalling protobuf-3.20.3:\n",
            "      Successfully uninstalled protobuf-3.20.3\n",
            "\u001b[31mERROR: pip's dependency resolver does not currently take into account all the packages that are installed. This behaviour is the source of the following dependency conflicts.\n",
            "tensorflow 2.12.0 requires protobuf!=4.21.0,!=4.21.1,!=4.21.2,!=4.21.3,!=4.21.4,!=4.21.5,<5.0.0dev,>=3.20.3, but you have protobuf 3.11.2 which is incompatible.\n",
            "tensorflow-metadata 1.13.1 requires protobuf<5,>=3.20.3, but you have protobuf 3.11.2 which is incompatible.\n",
            "tensorflow-hub 0.13.0 requires protobuf>=3.19.6, but you have protobuf 3.11.2 which is incompatible.\n",
            "tensorflow-datasets 4.8.3 requires protobuf>=3.12.2, but you have protobuf 3.11.2 which is incompatible.\n",
            "tensorboard 2.12.2 requires protobuf>=3.19.6, but you have protobuf 3.11.2 which is incompatible.\n",
            "proto-plus 1.22.2 requires protobuf<5.0.0dev,>=3.19.0, but you have protobuf 3.11.2 which is incompatible.\n",
            "grpcio-status 1.48.2 requires protobuf>=3.12.0, but you have protobuf 3.11.2 which is incompatible.\n",
            "googleapis-common-protos 1.59.0 requires protobuf!=3.20.0,!=3.20.1,!=4.21.1,!=4.21.2,!=4.21.3,!=4.21.4,!=4.21.5,<5.0.0dev,>=3.19.5, but you have protobuf 3.11.2 which is incompatible.\n",
            "google-cloud-translate 3.11.1 requires protobuf!=3.20.0,!=3.20.1,!=4.21.0,!=4.21.1,!=4.21.2,!=4.21.3,!=4.21.4,!=4.21.5,<5.0.0dev,>=3.19.5, but you have protobuf 3.11.2 which is incompatible.\n",
            "google-cloud-language 2.9.1 requires protobuf!=3.20.0,!=3.20.1,!=4.21.0,!=4.21.1,!=4.21.2,!=4.21.3,!=4.21.4,!=4.21.5,<5.0.0dev,>=3.19.5, but you have protobuf 3.11.2 which is incompatible.\n",
            "google-cloud-firestore 2.11.0 requires protobuf!=3.20.0,!=3.20.1,!=4.21.0,!=4.21.1,!=4.21.2,!=4.21.3,!=4.21.4,!=4.21.5,<5.0.0dev,>=3.19.5, but you have protobuf 3.11.2 which is incompatible.\n",
            "google-cloud-datastore 2.15.1 requires protobuf!=3.20.0,!=3.20.1,!=4.21.0,!=4.21.1,!=4.21.2,!=4.21.3,!=4.21.4,!=4.21.5,<5.0.0dev,>=3.19.5, but you have protobuf 3.11.2 which is incompatible.\n",
            "google-cloud-bigquery 3.9.0 requires protobuf!=3.20.0,!=3.20.1,!=4.21.0,!=4.21.1,!=4.21.2,!=4.21.3,!=4.21.4,!=4.21.5,<5.0.0dev,>=3.19.5, but you have protobuf 3.11.2 which is incompatible.\n",
            "google-cloud-bigquery-storage 2.19.1 requires protobuf!=3.20.0,!=3.20.1,!=4.21.0,!=4.21.1,!=4.21.2,!=4.21.3,!=4.21.4,!=4.21.5,<5.0.0dev,>=3.19.5, but you have protobuf 3.11.2 which is incompatible.\n",
            "google-api-core 2.11.0 requires protobuf!=3.20.0,!=3.20.1,!=4.21.0,!=4.21.1,!=4.21.2,!=4.21.3,!=4.21.4,!=4.21.5,<5.0.0dev,>=3.19.5, but you have protobuf 3.11.2 which is incompatible.\u001b[0m\u001b[31m\n",
            "\u001b[0mSuccessfully installed matrixprofile-1.1.10 protobuf-3.11.2\n"
          ]
        }
      ]
    },
    {
      "cell_type": "code",
      "source": [
        "!pip install tsfresh"
      ],
      "metadata": {
        "colab": {
          "base_uri": "https://localhost:8080/"
        },
        "id": "ZdeGu5WjvA6_",
        "outputId": "c9ebdb6d-50f4-423b-886b-430c8ac917c5"
      },
      "execution_count": null,
      "outputs": [
        {
          "output_type": "stream",
          "name": "stdout",
          "text": [
            "Looking in indexes: https://pypi.org/simple, https://us-python.pkg.dev/colab-wheels/public/simple/\n",
            "Requirement already satisfied: tsfresh in /usr/local/lib/python3.9/dist-packages (0.20.0)\n",
            "Requirement already satisfied: requests>=2.9.1 in /usr/local/lib/python3.9/dist-packages (from tsfresh) (2.27.1)\n",
            "Requirement already satisfied: tqdm>=4.10.0 in /usr/local/lib/python3.9/dist-packages (from tsfresh) (4.65.0)\n",
            "Requirement already satisfied: cloudpickle in /usr/local/lib/python3.9/dist-packages (from tsfresh) (2.2.1)\n",
            "Requirement already satisfied: scikit-learn>=0.22.0 in /usr/local/lib/python3.9/dist-packages (from tsfresh) (1.2.2)\n",
            "Requirement already satisfied: distributed>=2.11.0 in /usr/local/lib/python3.9/dist-packages (from tsfresh) (2022.12.1)\n",
            "Requirement already satisfied: patsy>=0.4.1 in /usr/local/lib/python3.9/dist-packages (from tsfresh) (0.5.3)\n",
            "Requirement already satisfied: stumpy>=1.7.2 in /usr/local/lib/python3.9/dist-packages (from tsfresh) (1.11.1)\n",
            "Requirement already satisfied: dask[dataframe]>=2.9.0 in /usr/local/lib/python3.9/dist-packages (from tsfresh) (2022.12.1)\n",
            "Requirement already satisfied: statsmodels>=0.13 in /usr/local/lib/python3.9/dist-packages (from tsfresh) (0.13.5)\n",
            "Requirement already satisfied: pandas>=0.25.0 in /usr/local/lib/python3.9/dist-packages (from tsfresh) (1.5.3)\n",
            "Requirement already satisfied: numpy>=1.15.1 in /usr/local/lib/python3.9/dist-packages (from tsfresh) (1.22.4)\n",
            "Requirement already satisfied: scipy>=1.2.0 in /usr/local/lib/python3.9/dist-packages (from tsfresh) (1.10.1)\n",
            "Requirement already satisfied: toolz>=0.8.2 in /usr/local/lib/python3.9/dist-packages (from dask[dataframe]>=2.9.0->tsfresh) (0.12.0)\n",
            "Requirement already satisfied: pyyaml>=5.3.1 in /usr/local/lib/python3.9/dist-packages (from dask[dataframe]>=2.9.0->tsfresh) (6.0)\n",
            "Requirement already satisfied: partd>=0.3.10 in /usr/local/lib/python3.9/dist-packages (from dask[dataframe]>=2.9.0->tsfresh) (1.4.0)\n",
            "Requirement already satisfied: fsspec>=0.6.0 in /usr/local/lib/python3.9/dist-packages (from dask[dataframe]>=2.9.0->tsfresh) (2023.4.0)\n",
            "Requirement already satisfied: click>=7.0 in /usr/local/lib/python3.9/dist-packages (from dask[dataframe]>=2.9.0->tsfresh) (8.1.3)\n",
            "Requirement already satisfied: packaging>=20.0 in /usr/local/lib/python3.9/dist-packages (from dask[dataframe]>=2.9.0->tsfresh) (23.1)\n",
            "Requirement already satisfied: tornado>=6.0.3 in /usr/local/lib/python3.9/dist-packages (from distributed>=2.11.0->tsfresh) (6.2)\n",
            "Requirement already satisfied: sortedcontainers!=2.0.0,!=2.0.1 in /usr/local/lib/python3.9/dist-packages (from distributed>=2.11.0->tsfresh) (2.4.0)\n",
            "Requirement already satisfied: tblib>=1.6.0 in /usr/local/lib/python3.9/dist-packages (from distributed>=2.11.0->tsfresh) (1.7.0)\n",
            "Requirement already satisfied: urllib3 in /usr/local/lib/python3.9/dist-packages (from distributed>=2.11.0->tsfresh) (1.26.15)\n",
            "Requirement already satisfied: zict>=0.1.3 in /usr/local/lib/python3.9/dist-packages (from distributed>=2.11.0->tsfresh) (2.2.0)\n",
            "Requirement already satisfied: locket>=1.0.0 in /usr/local/lib/python3.9/dist-packages (from distributed>=2.11.0->tsfresh) (1.0.0)\n",
            "Requirement already satisfied: msgpack>=0.6.0 in /usr/local/lib/python3.9/dist-packages (from distributed>=2.11.0->tsfresh) (1.0.5)\n",
            "Requirement already satisfied: jinja2 in /usr/local/lib/python3.9/dist-packages (from distributed>=2.11.0->tsfresh) (3.1.2)\n",
            "Requirement already satisfied: psutil>=5.0 in /usr/local/lib/python3.9/dist-packages (from distributed>=2.11.0->tsfresh) (5.9.5)\n",
            "Requirement already satisfied: python-dateutil>=2.8.1 in /usr/local/lib/python3.9/dist-packages (from pandas>=0.25.0->tsfresh) (2.8.2)\n",
            "Requirement already satisfied: pytz>=2020.1 in /usr/local/lib/python3.9/dist-packages (from pandas>=0.25.0->tsfresh) (2022.7.1)\n",
            "Requirement already satisfied: six in /usr/local/lib/python3.9/dist-packages (from patsy>=0.4.1->tsfresh) (1.16.0)\n",
            "Requirement already satisfied: certifi>=2017.4.17 in /usr/local/lib/python3.9/dist-packages (from requests>=2.9.1->tsfresh) (2022.12.7)\n",
            "Requirement already satisfied: idna<4,>=2.5 in /usr/local/lib/python3.9/dist-packages (from requests>=2.9.1->tsfresh) (3.4)\n",
            "Requirement already satisfied: charset-normalizer~=2.0.0 in /usr/local/lib/python3.9/dist-packages (from requests>=2.9.1->tsfresh) (2.0.12)\n",
            "Requirement already satisfied: joblib>=1.1.1 in /usr/local/lib/python3.9/dist-packages (from scikit-learn>=0.22.0->tsfresh) (1.2.0)\n",
            "Requirement already satisfied: threadpoolctl>=2.0.0 in /usr/local/lib/python3.9/dist-packages (from scikit-learn>=0.22.0->tsfresh) (3.1.0)\n",
            "Requirement already satisfied: numba>=0.54 in /usr/local/lib/python3.9/dist-packages (from stumpy>=1.7.2->tsfresh) (0.56.4)\n",
            "Requirement already satisfied: llvmlite<0.40,>=0.39.0dev0 in /usr/local/lib/python3.9/dist-packages (from numba>=0.54->stumpy>=1.7.2->tsfresh) (0.39.1)\n",
            "Requirement already satisfied: setuptools in /usr/local/lib/python3.9/dist-packages (from numba>=0.54->stumpy>=1.7.2->tsfresh) (67.6.1)\n",
            "Requirement already satisfied: heapdict in /usr/local/lib/python3.9/dist-packages (from zict>=0.1.3->distributed>=2.11.0->tsfresh) (1.0.1)\n",
            "Requirement already satisfied: MarkupSafe>=2.0 in /usr/local/lib/python3.9/dist-packages (from jinja2->distributed>=2.11.0->tsfresh) (2.1.2)\n"
          ]
        }
      ]
    },
    {
      "cell_type": "code",
      "source": [
        "!pip install --upgrade matrixprofile"
      ],
      "metadata": {
        "colab": {
          "base_uri": "https://localhost:8080/"
        },
        "id": "52C41ivewjdK",
        "outputId": "eb0b0763-05f0-46f1-fa73-bb0e25b111e6"
      },
      "execution_count": null,
      "outputs": [
        {
          "output_type": "stream",
          "name": "stdout",
          "text": [
            "Looking in indexes: https://pypi.org/simple, https://us-python.pkg.dev/colab-wheels/public/simple/\n",
            "Requirement already satisfied: matrixprofile in /usr/local/lib/python3.9/dist-packages (1.1.10)\n",
            "Requirement already satisfied: numpy>=1.16.2 in /usr/local/lib/python3.9/dist-packages (from matrixprofile) (1.22.4)\n",
            "Requirement already satisfied: protobuf==3.11.2 in /usr/local/lib/python3.9/dist-packages (from matrixprofile) (3.11.2)\n",
            "Requirement already satisfied: matplotlib>=3.0.3 in /usr/local/lib/python3.9/dist-packages (from matrixprofile) (3.7.1)\n",
            "Requirement already satisfied: scipy<2.0.0,>=1.3.2 in /usr/local/lib/python3.9/dist-packages (from matrixprofile) (1.10.1)\n",
            "Requirement already satisfied: setuptools in /usr/local/lib/python3.9/dist-packages (from protobuf==3.11.2->matrixprofile) (67.6.1)\n",
            "Requirement already satisfied: six>=1.9 in /usr/local/lib/python3.9/dist-packages (from protobuf==3.11.2->matrixprofile) (1.16.0)\n",
            "Requirement already satisfied: pyparsing>=2.3.1 in /usr/local/lib/python3.9/dist-packages (from matplotlib>=3.0.3->matrixprofile) (3.0.9)\n",
            "Requirement already satisfied: fonttools>=4.22.0 in /usr/local/lib/python3.9/dist-packages (from matplotlib>=3.0.3->matrixprofile) (4.39.3)\n",
            "Requirement already satisfied: importlib-resources>=3.2.0 in /usr/local/lib/python3.9/dist-packages (from matplotlib>=3.0.3->matrixprofile) (5.12.0)\n",
            "Requirement already satisfied: pillow>=6.2.0 in /usr/local/lib/python3.9/dist-packages (from matplotlib>=3.0.3->matrixprofile) (8.4.0)\n",
            "Requirement already satisfied: python-dateutil>=2.7 in /usr/local/lib/python3.9/dist-packages (from matplotlib>=3.0.3->matrixprofile) (2.8.2)\n",
            "Requirement already satisfied: contourpy>=1.0.1 in /usr/local/lib/python3.9/dist-packages (from matplotlib>=3.0.3->matrixprofile) (1.0.7)\n",
            "Requirement already satisfied: packaging>=20.0 in /usr/local/lib/python3.9/dist-packages (from matplotlib>=3.0.3->matrixprofile) (23.1)\n",
            "Requirement already satisfied: kiwisolver>=1.0.1 in /usr/local/lib/python3.9/dist-packages (from matplotlib>=3.0.3->matrixprofile) (1.4.4)\n",
            "Requirement already satisfied: cycler>=0.10 in /usr/local/lib/python3.9/dist-packages (from matplotlib>=3.0.3->matrixprofile) (0.11.0)\n",
            "Requirement already satisfied: zipp>=3.1.0 in /usr/local/lib/python3.9/dist-packages (from importlib-resources>=3.2.0->matplotlib>=3.0.3->matrixprofile) (3.15.0)\n"
          ]
        }
      ]
    },
    {
      "cell_type": "code",
      "source": [
        "!pip install matrixprofile-ts"
      ],
      "metadata": {
        "colab": {
          "base_uri": "https://localhost:8080/"
        },
        "id": "YL108rNpx_qI",
        "outputId": "ebf9228c-14e0-4320-8ffa-3dbc5ea30f95"
      },
      "execution_count": null,
      "outputs": [
        {
          "output_type": "stream",
          "name": "stdout",
          "text": [
            "Looking in indexes: https://pypi.org/simple, https://us-python.pkg.dev/colab-wheels/public/simple/\n",
            "Collecting matrixprofile-ts\n",
            "  Downloading matrixprofile_ts-0.0.9-py2.py3-none-any.whl (24 kB)\n",
            "Requirement already satisfied: numpy>=1.11.3 in /usr/local/lib/python3.9/dist-packages (from matrixprofile-ts) (1.22.4)\n",
            "Installing collected packages: matrixprofile-ts\n",
            "Successfully installed matrixprofile-ts-0.0.9\n"
          ]
        }
      ]
    },
    {
      "cell_type": "code",
      "source": [
        "from google.colab import drive\n",
        "drive.mount('/content/drive')"
      ],
      "metadata": {
        "colab": {
          "base_uri": "https://localhost:8080/"
        },
        "id": "BV8hpy_Tywrn",
        "outputId": "019d4bcd-5a71-499f-8fec-0998aecae5b6"
      },
      "execution_count": null,
      "outputs": [
        {
          "output_type": "stream",
          "name": "stdout",
          "text": [
            "Mounted at /content/drive\n"
          ]
        }
      ]
    },
    {
      "cell_type": "code",
      "execution_count": null,
      "metadata": {
        "id": "7u8-HTeAsY7x"
      },
      "outputs": [],
      "source": [
        "import os\n",
        "TBI_Pos = '/content/drive/MyDrive/TBI-Pos'\n",
        "TBI_Neg = '/content/drive/MyDrive/TBI-Neg'"
      ]
    },
    {
      "cell_type": "code",
      "source": [
        "import numpy as np\n",
        "import pandas as pd\n",
        "from matrixprofile import *\n",
        "from tsfresh import extract_features\n",
        "from sklearn.ensemble import RandomForestClassifier\n",
        "from sklearn.metrics import classification_report\n",
        "from sklearn.model_selection import train_test_split\n",
        "from torch.utils.data import ConcatDataset"
      ],
      "metadata": {
        "id": "Bmat_A7CsoCI"
      },
      "execution_count": null,
      "outputs": []
    },
    {
      "cell_type": "code",
      "source": [
        "!pip install matrixprofilets"
      ],
      "metadata": {
        "colab": {
          "base_uri": "https://localhost:8080/"
        },
        "id": "vnF_w26PthcD",
        "outputId": "1fee5609-e694-48a8-ad8a-8af45dd1d013"
      },
      "execution_count": null,
      "outputs": [
        {
          "output_type": "stream",
          "name": "stdout",
          "text": [
            "Looking in indexes: https://pypi.org/simple, https://us-python.pkg.dev/colab-wheels/public/simple/\n",
            "\u001b[31mERROR: Could not find a version that satisfies the requirement matrixprofilets (from versions: none)\u001b[0m\u001b[31m\n",
            "\u001b[0m\u001b[31mERROR: No matching distribution found for matrixprofilets\u001b[0m\u001b[31m\n",
            "\u001b[0m"
          ]
        }
      ]
    },
    {
      "cell_type": "code",
      "source": [
        "from matrixprofile import matrixProfile\n",
        "from stumpy import *\n",
        "import stumpy\n",
        "from stumpy import stump\n"
      ],
      "metadata": {
        "id": "kSqVi_Pey-O_"
      },
      "execution_count": null,
      "outputs": []
    },
    {
      "cell_type": "code",
      "source": [
        "from matrixprofile import matrixProfile as mp\n"
      ],
      "metadata": {
        "id": "TgCFVHYSzKcL"
      },
      "execution_count": null,
      "outputs": []
    },
    {
      "cell_type": "code",
      "source": [
        "max_length = 0\n",
        "\n",
        "# Load TBI-Neg data\n",
        "neg_data = []\n",
        "neg_labels = []\n",
        "for filename in os.listdir(TBI_Neg):\n",
        "    filepath = os.path.join(TBI_Neg, filename)\n",
        "    df = pd.read_csv(filepath)\n",
        "    mp = matrixProfile.stomp(df.values.flatten(), m=5) \n",
        "    print(mp)\n",
        "    if len(mp) > max_length:\n",
        "        max_length = len(mp)\n",
        "    neg_data.append(mp)\n",
        "\n",
        "    neg_labels.append(0)\n",
        "    print(neg_data, neg_labels)"
      ],
      "metadata": {
        "colab": {
          "base_uri": "https://localhost:8080/"
        },
        "id": "BjrH16bV6rhW",
        "outputId": "08c5c5ba-af38-4965-a3f2-3cf11ed8f227"
      },
      "execution_count": null,
      "outputs": [
        {
          "output_type": "stream",
          "name": "stdout",
          "text": [
            "(array([0.08503459, 0.07085338, 0.10566037, ..., 0.05481083, 0.06774273,\n",
            "       0.04282805]), array([ 26032.,  99545., 100742., ...,  57477.,  19032.,  34479.]))\n",
            "[(array([0.08503459, 0.07085338, 0.10566037, ..., 0.05481083, 0.06774273,\n",
            "       0.04282805]), array([ 26032.,  99545., 100742., ...,  57477.,  19032.,  34479.]))] [0]\n",
            "(array([0.03957864, 0.09551832, 0.05164751, ..., 0.11211419, 0.0565897 ,\n",
            "       0.05443408]), array([103897., 103898.,  82822., ...,  97047.,  48980.,  28746.]))\n",
            "[(array([0.08503459, 0.07085338, 0.10566037, ..., 0.05481083, 0.06774273,\n",
            "       0.04282805]), array([ 26032.,  99545., 100742., ...,  57477.,  19032.,  34479.])), (array([0.03957864, 0.09551832, 0.05164751, ..., 0.11211419, 0.0565897 ,\n",
            "       0.05443408]), array([103897., 103898.,  82822., ...,  97047.,  48980.,  28746.]))] [0, 0]\n",
            "(array([0.0675242 , 0.10916261, 0.07049579, ..., 0.11052128, 0.10444297,\n",
            "       0.03897176]), array([ 82343.,  22134.,  15938., ..., 101296., 104439.,   1791.]))\n",
            "[(array([0.08503459, 0.07085338, 0.10566037, ..., 0.05481083, 0.06774273,\n",
            "       0.04282805]), array([ 26032.,  99545., 100742., ...,  57477.,  19032.,  34479.])), (array([0.03957864, 0.09551832, 0.05164751, ..., 0.11211419, 0.0565897 ,\n",
            "       0.05443408]), array([103897., 103898.,  82822., ...,  97047.,  48980.,  28746.])), (array([0.0675242 , 0.10916261, 0.07049579, ..., 0.11052128, 0.10444297,\n",
            "       0.03897176]), array([ 82343.,  22134.,  15938., ..., 101296., 104439.,   1791.]))] [0, 0, 0]\n",
            "(array([0.0291342 , 0.10130007, 0.06590627, ..., 0.0318609 , 0.1205308 ,\n",
            "       0.07982905]), array([62905., 11861., 15379., ..., 57680., 42800., 44395.]))\n",
            "[(array([0.08503459, 0.07085338, 0.10566037, ..., 0.05481083, 0.06774273,\n",
            "       0.04282805]), array([ 26032.,  99545., 100742., ...,  57477.,  19032.,  34479.])), (array([0.03957864, 0.09551832, 0.05164751, ..., 0.11211419, 0.0565897 ,\n",
            "       0.05443408]), array([103897., 103898.,  82822., ...,  97047.,  48980.,  28746.])), (array([0.0675242 , 0.10916261, 0.07049579, ..., 0.11052128, 0.10444297,\n",
            "       0.03897176]), array([ 82343.,  22134.,  15938., ..., 101296., 104439.,   1791.])), (array([0.0291342 , 0.10130007, 0.06590627, ..., 0.0318609 , 0.1205308 ,\n",
            "       0.07982905]), array([62905., 11861., 15379., ..., 57680., 42800., 44395.]))] [0, 0, 0, 0]\n",
            "(array([0.06074312, 0.04447182, 0.06329072, ..., 0.1054663 , 0.08234856,\n",
            "       0.09035403]), array([83137., 83138., 81238., ..., 84823., 18095., 76960.]))\n",
            "[(array([0.08503459, 0.07085338, 0.10566037, ..., 0.05481083, 0.06774273,\n",
            "       0.04282805]), array([ 26032.,  99545., 100742., ...,  57477.,  19032.,  34479.])), (array([0.03957864, 0.09551832, 0.05164751, ..., 0.11211419, 0.0565897 ,\n",
            "       0.05443408]), array([103897., 103898.,  82822., ...,  97047.,  48980.,  28746.])), (array([0.0675242 , 0.10916261, 0.07049579, ..., 0.11052128, 0.10444297,\n",
            "       0.03897176]), array([ 82343.,  22134.,  15938., ..., 101296., 104439.,   1791.])), (array([0.0291342 , 0.10130007, 0.06590627, ..., 0.0318609 , 0.1205308 ,\n",
            "       0.07982905]), array([62905., 11861., 15379., ..., 57680., 42800., 44395.])), (array([0.06074312, 0.04447182, 0.06329072, ..., 0.1054663 , 0.08234856,\n",
            "       0.09035403]), array([83137., 83138., 81238., ..., 84823., 18095., 76960.]))] [0, 0, 0, 0, 0]\n",
            "(array([0.0517515 , 0.03277594, 0.09433007, ..., 0.04163346, 0.09816528,\n",
            "       0.06025693]), array([ 73420., 103624.,  10262., ...,  65475.,  86786.,  33074.]))\n",
            "[(array([0.08503459, 0.07085338, 0.10566037, ..., 0.05481083, 0.06774273,\n",
            "       0.04282805]), array([ 26032.,  99545., 100742., ...,  57477.,  19032.,  34479.])), (array([0.03957864, 0.09551832, 0.05164751, ..., 0.11211419, 0.0565897 ,\n",
            "       0.05443408]), array([103897., 103898.,  82822., ...,  97047.,  48980.,  28746.])), (array([0.0675242 , 0.10916261, 0.07049579, ..., 0.11052128, 0.10444297,\n",
            "       0.03897176]), array([ 82343.,  22134.,  15938., ..., 101296., 104439.,   1791.])), (array([0.0291342 , 0.10130007, 0.06590627, ..., 0.0318609 , 0.1205308 ,\n",
            "       0.07982905]), array([62905., 11861., 15379., ..., 57680., 42800., 44395.])), (array([0.06074312, 0.04447182, 0.06329072, ..., 0.1054663 , 0.08234856,\n",
            "       0.09035403]), array([83137., 83138., 81238., ..., 84823., 18095., 76960.])), (array([0.0517515 , 0.03277594, 0.09433007, ..., 0.04163346, 0.09816528,\n",
            "       0.06025693]), array([ 73420., 103624.,  10262., ...,  65475.,  86786.,  33074.]))] [0, 0, 0, 0, 0, 0]\n",
            "(array([0.06611323, 0.07720659, 0.08481377, ..., 0.02206824, 0.03949751,\n",
            "       0.04818042]), array([72280., 51571., 84507., ..., 44393., 31260., 31261.]))\n",
            "[(array([0.08503459, 0.07085338, 0.10566037, ..., 0.05481083, 0.06774273,\n",
            "       0.04282805]), array([ 26032.,  99545., 100742., ...,  57477.,  19032.,  34479.])), (array([0.03957864, 0.09551832, 0.05164751, ..., 0.11211419, 0.0565897 ,\n",
            "       0.05443408]), array([103897., 103898.,  82822., ...,  97047.,  48980.,  28746.])), (array([0.0675242 , 0.10916261, 0.07049579, ..., 0.11052128, 0.10444297,\n",
            "       0.03897176]), array([ 82343.,  22134.,  15938., ..., 101296., 104439.,   1791.])), (array([0.0291342 , 0.10130007, 0.06590627, ..., 0.0318609 , 0.1205308 ,\n",
            "       0.07982905]), array([62905., 11861., 15379., ..., 57680., 42800., 44395.])), (array([0.06074312, 0.04447182, 0.06329072, ..., 0.1054663 , 0.08234856,\n",
            "       0.09035403]), array([83137., 83138., 81238., ..., 84823., 18095., 76960.])), (array([0.0517515 , 0.03277594, 0.09433007, ..., 0.04163346, 0.09816528,\n",
            "       0.06025693]), array([ 73420., 103624.,  10262., ...,  65475.,  86786.,  33074.])), (array([0.06611323, 0.07720659, 0.08481377, ..., 0.02206824, 0.03949751,\n",
            "       0.04818042]), array([72280., 51571., 84507., ..., 44393., 31260., 31261.]))] [0, 0, 0, 0, 0, 0, 0]\n",
            "(array([0.05817001, 0.08008925, 0.0998926 , ..., 0.10458197, 0.04514156,\n",
            "       0.05684487]), array([32291., 33077., 94811., ..., 38419.,  8126., 71804.]))\n",
            "[(array([0.08503459, 0.07085338, 0.10566037, ..., 0.05481083, 0.06774273,\n",
            "       0.04282805]), array([ 26032.,  99545., 100742., ...,  57477.,  19032.,  34479.])), (array([0.03957864, 0.09551832, 0.05164751, ..., 0.11211419, 0.0565897 ,\n",
            "       0.05443408]), array([103897., 103898.,  82822., ...,  97047.,  48980.,  28746.])), (array([0.0675242 , 0.10916261, 0.07049579, ..., 0.11052128, 0.10444297,\n",
            "       0.03897176]), array([ 82343.,  22134.,  15938., ..., 101296., 104439.,   1791.])), (array([0.0291342 , 0.10130007, 0.06590627, ..., 0.0318609 , 0.1205308 ,\n",
            "       0.07982905]), array([62905., 11861., 15379., ..., 57680., 42800., 44395.])), (array([0.06074312, 0.04447182, 0.06329072, ..., 0.1054663 , 0.08234856,\n",
            "       0.09035403]), array([83137., 83138., 81238., ..., 84823., 18095., 76960.])), (array([0.0517515 , 0.03277594, 0.09433007, ..., 0.04163346, 0.09816528,\n",
            "       0.06025693]), array([ 73420., 103624.,  10262., ...,  65475.,  86786.,  33074.])), (array([0.06611323, 0.07720659, 0.08481377, ..., 0.02206824, 0.03949751,\n",
            "       0.04818042]), array([72280., 51571., 84507., ..., 44393., 31260., 31261.])), (array([0.05817001, 0.08008925, 0.0998926 , ..., 0.10458197, 0.04514156,\n",
            "       0.05684487]), array([32291., 33077., 94811., ..., 38419.,  8126., 71804.]))] [0, 0, 0, 0, 0, 0, 0, 0]\n",
            "(array([0.07450976, 0.02206231, 0.05245011, ..., 0.06273232, 0.07457895,\n",
            "       0.02810589]), array([ 92491., 103462.,  15959., ...,  96935.,   1804.,  68425.]))\n",
            "[(array([0.08503459, 0.07085338, 0.10566037, ..., 0.05481083, 0.06774273,\n",
            "       0.04282805]), array([ 26032.,  99545., 100742., ...,  57477.,  19032.,  34479.])), (array([0.03957864, 0.09551832, 0.05164751, ..., 0.11211419, 0.0565897 ,\n",
            "       0.05443408]), array([103897., 103898.,  82822., ...,  97047.,  48980.,  28746.])), (array([0.0675242 , 0.10916261, 0.07049579, ..., 0.11052128, 0.10444297,\n",
            "       0.03897176]), array([ 82343.,  22134.,  15938., ..., 101296., 104439.,   1791.])), (array([0.0291342 , 0.10130007, 0.06590627, ..., 0.0318609 , 0.1205308 ,\n",
            "       0.07982905]), array([62905., 11861., 15379., ..., 57680., 42800., 44395.])), (array([0.06074312, 0.04447182, 0.06329072, ..., 0.1054663 , 0.08234856,\n",
            "       0.09035403]), array([83137., 83138., 81238., ..., 84823., 18095., 76960.])), (array([0.0517515 , 0.03277594, 0.09433007, ..., 0.04163346, 0.09816528,\n",
            "       0.06025693]), array([ 73420., 103624.,  10262., ...,  65475.,  86786.,  33074.])), (array([0.06611323, 0.07720659, 0.08481377, ..., 0.02206824, 0.03949751,\n",
            "       0.04818042]), array([72280., 51571., 84507., ..., 44393., 31260., 31261.])), (array([0.05817001, 0.08008925, 0.0998926 , ..., 0.10458197, 0.04514156,\n",
            "       0.05684487]), array([32291., 33077., 94811., ..., 38419.,  8126., 71804.])), (array([0.07450976, 0.02206231, 0.05245011, ..., 0.06273232, 0.07457895,\n",
            "       0.02810589]), array([ 92491., 103462.,  15959., ...,  96935.,   1804.,  68425.]))] [0, 0, 0, 0, 0, 0, 0, 0, 0]\n",
            "(array([0.06819813, 0.05128526, 0.04755771, ..., 0.04274569, 0.03052147,\n",
            "       0.08141146]), array([66350., 96495.,  4146., ..., 34542., 57340., 92871.]))\n",
            "[(array([0.08503459, 0.07085338, 0.10566037, ..., 0.05481083, 0.06774273,\n",
            "       0.04282805]), array([ 26032.,  99545., 100742., ...,  57477.,  19032.,  34479.])), (array([0.03957864, 0.09551832, 0.05164751, ..., 0.11211419, 0.0565897 ,\n",
            "       0.05443408]), array([103897., 103898.,  82822., ...,  97047.,  48980.,  28746.])), (array([0.0675242 , 0.10916261, 0.07049579, ..., 0.11052128, 0.10444297,\n",
            "       0.03897176]), array([ 82343.,  22134.,  15938., ..., 101296., 104439.,   1791.])), (array([0.0291342 , 0.10130007, 0.06590627, ..., 0.0318609 , 0.1205308 ,\n",
            "       0.07982905]), array([62905., 11861., 15379., ..., 57680., 42800., 44395.])), (array([0.06074312, 0.04447182, 0.06329072, ..., 0.1054663 , 0.08234856,\n",
            "       0.09035403]), array([83137., 83138., 81238., ..., 84823., 18095., 76960.])), (array([0.0517515 , 0.03277594, 0.09433007, ..., 0.04163346, 0.09816528,\n",
            "       0.06025693]), array([ 73420., 103624.,  10262., ...,  65475.,  86786.,  33074.])), (array([0.06611323, 0.07720659, 0.08481377, ..., 0.02206824, 0.03949751,\n",
            "       0.04818042]), array([72280., 51571., 84507., ..., 44393., 31260., 31261.])), (array([0.05817001, 0.08008925, 0.0998926 , ..., 0.10458197, 0.04514156,\n",
            "       0.05684487]), array([32291., 33077., 94811., ..., 38419.,  8126., 71804.])), (array([0.07450976, 0.02206231, 0.05245011, ..., 0.06273232, 0.07457895,\n",
            "       0.02810589]), array([ 92491., 103462.,  15959., ...,  96935.,   1804.,  68425.])), (array([0.06819813, 0.05128526, 0.04755771, ..., 0.04274569, 0.03052147,\n",
            "       0.08141146]), array([66350., 96495.,  4146., ..., 34542., 57340., 92871.]))] [0, 0, 0, 0, 0, 0, 0, 0, 0, 0]\n",
            "(array([0.06673372, 0.0312287 , 0.06364817, ..., 0.06653477, 0.08127757,\n",
            "       0.06854005]), array([109062.,  88924.,  75217., ...,  20193.,   3069.,  17683.]))\n",
            "[(array([0.08503459, 0.07085338, 0.10566037, ..., 0.05481083, 0.06774273,\n",
            "       0.04282805]), array([ 26032.,  99545., 100742., ...,  57477.,  19032.,  34479.])), (array([0.03957864, 0.09551832, 0.05164751, ..., 0.11211419, 0.0565897 ,\n",
            "       0.05443408]), array([103897., 103898.,  82822., ...,  97047.,  48980.,  28746.])), (array([0.0675242 , 0.10916261, 0.07049579, ..., 0.11052128, 0.10444297,\n",
            "       0.03897176]), array([ 82343.,  22134.,  15938., ..., 101296., 104439.,   1791.])), (array([0.0291342 , 0.10130007, 0.06590627, ..., 0.0318609 , 0.1205308 ,\n",
            "       0.07982905]), array([62905., 11861., 15379., ..., 57680., 42800., 44395.])), (array([0.06074312, 0.04447182, 0.06329072, ..., 0.1054663 , 0.08234856,\n",
            "       0.09035403]), array([83137., 83138., 81238., ..., 84823., 18095., 76960.])), (array([0.0517515 , 0.03277594, 0.09433007, ..., 0.04163346, 0.09816528,\n",
            "       0.06025693]), array([ 73420., 103624.,  10262., ...,  65475.,  86786.,  33074.])), (array([0.06611323, 0.07720659, 0.08481377, ..., 0.02206824, 0.03949751,\n",
            "       0.04818042]), array([72280., 51571., 84507., ..., 44393., 31260., 31261.])), (array([0.05817001, 0.08008925, 0.0998926 , ..., 0.10458197, 0.04514156,\n",
            "       0.05684487]), array([32291., 33077., 94811., ..., 38419.,  8126., 71804.])), (array([0.07450976, 0.02206231, 0.05245011, ..., 0.06273232, 0.07457895,\n",
            "       0.02810589]), array([ 92491., 103462.,  15959., ...,  96935.,   1804.,  68425.])), (array([0.06819813, 0.05128526, 0.04755771, ..., 0.04274569, 0.03052147,\n",
            "       0.08141146]), array([66350., 96495.,  4146., ..., 34542., 57340., 92871.])), (array([0.06673372, 0.0312287 , 0.06364817, ..., 0.06653477, 0.08127757,\n",
            "       0.06854005]), array([109062.,  88924.,  75217., ...,  20193.,   3069.,  17683.]))] [0, 0, 0, 0, 0, 0, 0, 0, 0, 0, 0]\n",
            "(array([0.04289399, 0.09317125, 0.04663721, ..., 0.08902477, 0.09695831,\n",
            "       0.05276325]), array([77198., 92352., 58143., ..., 11108., 41062., 22153.]))\n",
            "[(array([0.08503459, 0.07085338, 0.10566037, ..., 0.05481083, 0.06774273,\n",
            "       0.04282805]), array([ 26032.,  99545., 100742., ...,  57477.,  19032.,  34479.])), (array([0.03957864, 0.09551832, 0.05164751, ..., 0.11211419, 0.0565897 ,\n",
            "       0.05443408]), array([103897., 103898.,  82822., ...,  97047.,  48980.,  28746.])), (array([0.0675242 , 0.10916261, 0.07049579, ..., 0.11052128, 0.10444297,\n",
            "       0.03897176]), array([ 82343.,  22134.,  15938., ..., 101296., 104439.,   1791.])), (array([0.0291342 , 0.10130007, 0.06590627, ..., 0.0318609 , 0.1205308 ,\n",
            "       0.07982905]), array([62905., 11861., 15379., ..., 57680., 42800., 44395.])), (array([0.06074312, 0.04447182, 0.06329072, ..., 0.1054663 , 0.08234856,\n",
            "       0.09035403]), array([83137., 83138., 81238., ..., 84823., 18095., 76960.])), (array([0.0517515 , 0.03277594, 0.09433007, ..., 0.04163346, 0.09816528,\n",
            "       0.06025693]), array([ 73420., 103624.,  10262., ...,  65475.,  86786.,  33074.])), (array([0.06611323, 0.07720659, 0.08481377, ..., 0.02206824, 0.03949751,\n",
            "       0.04818042]), array([72280., 51571., 84507., ..., 44393., 31260., 31261.])), (array([0.05817001, 0.08008925, 0.0998926 , ..., 0.10458197, 0.04514156,\n",
            "       0.05684487]), array([32291., 33077., 94811., ..., 38419.,  8126., 71804.])), (array([0.07450976, 0.02206231, 0.05245011, ..., 0.06273232, 0.07457895,\n",
            "       0.02810589]), array([ 92491., 103462.,  15959., ...,  96935.,   1804.,  68425.])), (array([0.06819813, 0.05128526, 0.04755771, ..., 0.04274569, 0.03052147,\n",
            "       0.08141146]), array([66350., 96495.,  4146., ..., 34542., 57340., 92871.])), (array([0.06673372, 0.0312287 , 0.06364817, ..., 0.06653477, 0.08127757,\n",
            "       0.06854005]), array([109062.,  88924.,  75217., ...,  20193.,   3069.,  17683.])), (array([0.04289399, 0.09317125, 0.04663721, ..., 0.08902477, 0.09695831,\n",
            "       0.05276325]), array([77198., 92352., 58143., ..., 11108., 41062., 22153.]))] [0, 0, 0, 0, 0, 0, 0, 0, 0, 0, 0, 0]\n",
            "(array([0.03103199, 0.07434262, 0.04214692, ..., 0.0517162 , 0.09455342,\n",
            "       0.01447381]), array([ 12470.,  25055.,  29532., ...,  63870.,  23958., 104158.]))\n",
            "[(array([0.08503459, 0.07085338, 0.10566037, ..., 0.05481083, 0.06774273,\n",
            "       0.04282805]), array([ 26032.,  99545., 100742., ...,  57477.,  19032.,  34479.])), (array([0.03957864, 0.09551832, 0.05164751, ..., 0.11211419, 0.0565897 ,\n",
            "       0.05443408]), array([103897., 103898.,  82822., ...,  97047.,  48980.,  28746.])), (array([0.0675242 , 0.10916261, 0.07049579, ..., 0.11052128, 0.10444297,\n",
            "       0.03897176]), array([ 82343.,  22134.,  15938., ..., 101296., 104439.,   1791.])), (array([0.0291342 , 0.10130007, 0.06590627, ..., 0.0318609 , 0.1205308 ,\n",
            "       0.07982905]), array([62905., 11861., 15379., ..., 57680., 42800., 44395.])), (array([0.06074312, 0.04447182, 0.06329072, ..., 0.1054663 , 0.08234856,\n",
            "       0.09035403]), array([83137., 83138., 81238., ..., 84823., 18095., 76960.])), (array([0.0517515 , 0.03277594, 0.09433007, ..., 0.04163346, 0.09816528,\n",
            "       0.06025693]), array([ 73420., 103624.,  10262., ...,  65475.,  86786.,  33074.])), (array([0.06611323, 0.07720659, 0.08481377, ..., 0.02206824, 0.03949751,\n",
            "       0.04818042]), array([72280., 51571., 84507., ..., 44393., 31260., 31261.])), (array([0.05817001, 0.08008925, 0.0998926 , ..., 0.10458197, 0.04514156,\n",
            "       0.05684487]), array([32291., 33077., 94811., ..., 38419.,  8126., 71804.])), (array([0.07450976, 0.02206231, 0.05245011, ..., 0.06273232, 0.07457895,\n",
            "       0.02810589]), array([ 92491., 103462.,  15959., ...,  96935.,   1804.,  68425.])), (array([0.06819813, 0.05128526, 0.04755771, ..., 0.04274569, 0.03052147,\n",
            "       0.08141146]), array([66350., 96495.,  4146., ..., 34542., 57340., 92871.])), (array([0.06673372, 0.0312287 , 0.06364817, ..., 0.06653477, 0.08127757,\n",
            "       0.06854005]), array([109062.,  88924.,  75217., ...,  20193.,   3069.,  17683.])), (array([0.04289399, 0.09317125, 0.04663721, ..., 0.08902477, 0.09695831,\n",
            "       0.05276325]), array([77198., 92352., 58143., ..., 11108., 41062., 22153.])), (array([0.03103199, 0.07434262, 0.04214692, ..., 0.0517162 , 0.09455342,\n",
            "       0.01447381]), array([ 12470.,  25055.,  29532., ...,  63870.,  23958., 104158.]))] [0, 0, 0, 0, 0, 0, 0, 0, 0, 0, 0, 0, 0]\n",
            "(array([0.06496429, 0.07179326, 0.09303618, ..., 0.04509134, 0.05992138,\n",
            "       0.05193619]), array([52890., 80293., 40207., ..., 49529., 47976., 11862.]))\n",
            "[(array([0.08503459, 0.07085338, 0.10566037, ..., 0.05481083, 0.06774273,\n",
            "       0.04282805]), array([ 26032.,  99545., 100742., ...,  57477.,  19032.,  34479.])), (array([0.03957864, 0.09551832, 0.05164751, ..., 0.11211419, 0.0565897 ,\n",
            "       0.05443408]), array([103897., 103898.,  82822., ...,  97047.,  48980.,  28746.])), (array([0.0675242 , 0.10916261, 0.07049579, ..., 0.11052128, 0.10444297,\n",
            "       0.03897176]), array([ 82343.,  22134.,  15938., ..., 101296., 104439.,   1791.])), (array([0.0291342 , 0.10130007, 0.06590627, ..., 0.0318609 , 0.1205308 ,\n",
            "       0.07982905]), array([62905., 11861., 15379., ..., 57680., 42800., 44395.])), (array([0.06074312, 0.04447182, 0.06329072, ..., 0.1054663 , 0.08234856,\n",
            "       0.09035403]), array([83137., 83138., 81238., ..., 84823., 18095., 76960.])), (array([0.0517515 , 0.03277594, 0.09433007, ..., 0.04163346, 0.09816528,\n",
            "       0.06025693]), array([ 73420., 103624.,  10262., ...,  65475.,  86786.,  33074.])), (array([0.06611323, 0.07720659, 0.08481377, ..., 0.02206824, 0.03949751,\n",
            "       0.04818042]), array([72280., 51571., 84507., ..., 44393., 31260., 31261.])), (array([0.05817001, 0.08008925, 0.0998926 , ..., 0.10458197, 0.04514156,\n",
            "       0.05684487]), array([32291., 33077., 94811., ..., 38419.,  8126., 71804.])), (array([0.07450976, 0.02206231, 0.05245011, ..., 0.06273232, 0.07457895,\n",
            "       0.02810589]), array([ 92491., 103462.,  15959., ...,  96935.,   1804.,  68425.])), (array([0.06819813, 0.05128526, 0.04755771, ..., 0.04274569, 0.03052147,\n",
            "       0.08141146]), array([66350., 96495.,  4146., ..., 34542., 57340., 92871.])), (array([0.06673372, 0.0312287 , 0.06364817, ..., 0.06653477, 0.08127757,\n",
            "       0.06854005]), array([109062.,  88924.,  75217., ...,  20193.,   3069.,  17683.])), (array([0.04289399, 0.09317125, 0.04663721, ..., 0.08902477, 0.09695831,\n",
            "       0.05276325]), array([77198., 92352., 58143., ..., 11108., 41062., 22153.])), (array([0.03103199, 0.07434262, 0.04214692, ..., 0.0517162 , 0.09455342,\n",
            "       0.01447381]), array([ 12470.,  25055.,  29532., ...,  63870.,  23958., 104158.])), (array([0.06496429, 0.07179326, 0.09303618, ..., 0.04509134, 0.05992138,\n",
            "       0.05193619]), array([52890., 80293., 40207., ..., 49529., 47976., 11862.]))] [0, 0, 0, 0, 0, 0, 0, 0, 0, 0, 0, 0, 0, 0]\n",
            "(array([0.07763801, 0.05320277, 0.0546571 , ..., 0.0711058 , 0.09372432,\n",
            "       0.01563697]), array([27420., 91370., 68798., ..., 96577., 72247., 55283.]))\n",
            "[(array([0.08503459, 0.07085338, 0.10566037, ..., 0.05481083, 0.06774273,\n",
            "       0.04282805]), array([ 26032.,  99545., 100742., ...,  57477.,  19032.,  34479.])), (array([0.03957864, 0.09551832, 0.05164751, ..., 0.11211419, 0.0565897 ,\n",
            "       0.05443408]), array([103897., 103898.,  82822., ...,  97047.,  48980.,  28746.])), (array([0.0675242 , 0.10916261, 0.07049579, ..., 0.11052128, 0.10444297,\n",
            "       0.03897176]), array([ 82343.,  22134.,  15938., ..., 101296., 104439.,   1791.])), (array([0.0291342 , 0.10130007, 0.06590627, ..., 0.0318609 , 0.1205308 ,\n",
            "       0.07982905]), array([62905., 11861., 15379., ..., 57680., 42800., 44395.])), (array([0.06074312, 0.04447182, 0.06329072, ..., 0.1054663 , 0.08234856,\n",
            "       0.09035403]), array([83137., 83138., 81238., ..., 84823., 18095., 76960.])), (array([0.0517515 , 0.03277594, 0.09433007, ..., 0.04163346, 0.09816528,\n",
            "       0.06025693]), array([ 73420., 103624.,  10262., ...,  65475.,  86786.,  33074.])), (array([0.06611323, 0.07720659, 0.08481377, ..., 0.02206824, 0.03949751,\n",
            "       0.04818042]), array([72280., 51571., 84507., ..., 44393., 31260., 31261.])), (array([0.05817001, 0.08008925, 0.0998926 , ..., 0.10458197, 0.04514156,\n",
            "       0.05684487]), array([32291., 33077., 94811., ..., 38419.,  8126., 71804.])), (array([0.07450976, 0.02206231, 0.05245011, ..., 0.06273232, 0.07457895,\n",
            "       0.02810589]), array([ 92491., 103462.,  15959., ...,  96935.,   1804.,  68425.])), (array([0.06819813, 0.05128526, 0.04755771, ..., 0.04274569, 0.03052147,\n",
            "       0.08141146]), array([66350., 96495.,  4146., ..., 34542., 57340., 92871.])), (array([0.06673372, 0.0312287 , 0.06364817, ..., 0.06653477, 0.08127757,\n",
            "       0.06854005]), array([109062.,  88924.,  75217., ...,  20193.,   3069.,  17683.])), (array([0.04289399, 0.09317125, 0.04663721, ..., 0.08902477, 0.09695831,\n",
            "       0.05276325]), array([77198., 92352., 58143., ..., 11108., 41062., 22153.])), (array([0.03103199, 0.07434262, 0.04214692, ..., 0.0517162 , 0.09455342,\n",
            "       0.01447381]), array([ 12470.,  25055.,  29532., ...,  63870.,  23958., 104158.])), (array([0.06496429, 0.07179326, 0.09303618, ..., 0.04509134, 0.05992138,\n",
            "       0.05193619]), array([52890., 80293., 40207., ..., 49529., 47976., 11862.])), (array([0.07763801, 0.05320277, 0.0546571 , ..., 0.0711058 , 0.09372432,\n",
            "       0.01563697]), array([27420., 91370., 68798., ..., 96577., 72247., 55283.]))] [0, 0, 0, 0, 0, 0, 0, 0, 0, 0, 0, 0, 0, 0, 0]\n",
            "(array([0.0776094 , 0.07899485, 0.04123632, ..., 0.01724848, 0.07550667,\n",
            "       0.06395713]), array([ 91502.,  10101.,  69099., ..., 106525.,  19333.,  92795.]))\n",
            "[(array([0.08503459, 0.07085338, 0.10566037, ..., 0.05481083, 0.06774273,\n",
            "       0.04282805]), array([ 26032.,  99545., 100742., ...,  57477.,  19032.,  34479.])), (array([0.03957864, 0.09551832, 0.05164751, ..., 0.11211419, 0.0565897 ,\n",
            "       0.05443408]), array([103897., 103898.,  82822., ...,  97047.,  48980.,  28746.])), (array([0.0675242 , 0.10916261, 0.07049579, ..., 0.11052128, 0.10444297,\n",
            "       0.03897176]), array([ 82343.,  22134.,  15938., ..., 101296., 104439.,   1791.])), (array([0.0291342 , 0.10130007, 0.06590627, ..., 0.0318609 , 0.1205308 ,\n",
            "       0.07982905]), array([62905., 11861., 15379., ..., 57680., 42800., 44395.])), (array([0.06074312, 0.04447182, 0.06329072, ..., 0.1054663 , 0.08234856,\n",
            "       0.09035403]), array([83137., 83138., 81238., ..., 84823., 18095., 76960.])), (array([0.0517515 , 0.03277594, 0.09433007, ..., 0.04163346, 0.09816528,\n",
            "       0.06025693]), array([ 73420., 103624.,  10262., ...,  65475.,  86786.,  33074.])), (array([0.06611323, 0.07720659, 0.08481377, ..., 0.02206824, 0.03949751,\n",
            "       0.04818042]), array([72280., 51571., 84507., ..., 44393., 31260., 31261.])), (array([0.05817001, 0.08008925, 0.0998926 , ..., 0.10458197, 0.04514156,\n",
            "       0.05684487]), array([32291., 33077., 94811., ..., 38419.,  8126., 71804.])), (array([0.07450976, 0.02206231, 0.05245011, ..., 0.06273232, 0.07457895,\n",
            "       0.02810589]), array([ 92491., 103462.,  15959., ...,  96935.,   1804.,  68425.])), (array([0.06819813, 0.05128526, 0.04755771, ..., 0.04274569, 0.03052147,\n",
            "       0.08141146]), array([66350., 96495.,  4146., ..., 34542., 57340., 92871.])), (array([0.06673372, 0.0312287 , 0.06364817, ..., 0.06653477, 0.08127757,\n",
            "       0.06854005]), array([109062.,  88924.,  75217., ...,  20193.,   3069.,  17683.])), (array([0.04289399, 0.09317125, 0.04663721, ..., 0.08902477, 0.09695831,\n",
            "       0.05276325]), array([77198., 92352., 58143., ..., 11108., 41062., 22153.])), (array([0.03103199, 0.07434262, 0.04214692, ..., 0.0517162 , 0.09455342,\n",
            "       0.01447381]), array([ 12470.,  25055.,  29532., ...,  63870.,  23958., 104158.])), (array([0.06496429, 0.07179326, 0.09303618, ..., 0.04509134, 0.05992138,\n",
            "       0.05193619]), array([52890., 80293., 40207., ..., 49529., 47976., 11862.])), (array([0.07763801, 0.05320277, 0.0546571 , ..., 0.0711058 , 0.09372432,\n",
            "       0.01563697]), array([27420., 91370., 68798., ..., 96577., 72247., 55283.])), (array([0.0776094 , 0.07899485, 0.04123632, ..., 0.01724848, 0.07550667,\n",
            "       0.06395713]), array([ 91502.,  10101.,  69099., ..., 106525.,  19333.,  92795.]))] [0, 0, 0, 0, 0, 0, 0, 0, 0, 0, 0, 0, 0, 0, 0, 0]\n"
          ]
        }
      ]
    },
    {
      "cell_type": "code",
      "source": [
        "max_length =0\n",
        "\n",
        "pos_data = []\n",
        "pos_labels = []\n",
        "for filename in os.listdir(TBI_Pos):\n",
        "    filepath = os.path.join(TBI_Pos, filename)\n",
        "    df = pd.read_csv(filepath)\n",
        "    mp = matrixProfile.stomp(df.values.flatten(), m=5) \n",
        "    if len(mp) > max_length:\n",
        "        max_length = len(mp)\n",
        "    pos_data.append(mp)\n",
        "    pos_labels.append(1)\n",
        "    print(pos_data,pos_labels)"
      ],
      "metadata": {
        "id": "JqM0an6E2Lm6",
        "colab": {
          "base_uri": "https://localhost:8080/"
        },
        "outputId": "de56b661-ec04-46c8-f23b-9a1fb92888de"
      },
      "execution_count": null,
      "outputs": [
        {
          "output_type": "stream",
          "name": "stdout",
          "text": [
            "[(array([0.01772407, 0.0788895 , 0.0697209 , ..., 0.06057048, 0.07950313,\n",
            "       0.10134118]), array([46174., 73007., 22121., ...,   153., 35927., 77537.]))] [1]\n",
            "[(array([0.01772407, 0.0788895 , 0.0697209 , ..., 0.06057048, 0.07950313,\n",
            "       0.10134118]), array([46174., 73007., 22121., ...,   153., 35927., 77537.])), (array([0.06939524, 0.01754455, 0.09902212, ..., 0.09007474, 0.02757584,\n",
            "       0.0492817 ]), array([97244., 21431., 34701., ..., 63236., 37669., 86672.]))] [1, 1]\n",
            "[(array([0.01772407, 0.0788895 , 0.0697209 , ..., 0.06057048, 0.07950313,\n",
            "       0.10134118]), array([46174., 73007., 22121., ...,   153., 35927., 77537.])), (array([0.06939524, 0.01754455, 0.09902212, ..., 0.09007474, 0.02757584,\n",
            "       0.0492817 ]), array([97244., 21431., 34701., ..., 63236., 37669., 86672.])), (array([0.07507163, 0.05566132, 0.06410326, ..., 0.0563021 , 0.05026278,\n",
            "       0.09156955]), array([   175.,  37307., 102320., ...,  24792.,  28230.,  22648.]))] [1, 1, 1]\n",
            "[(array([0.01772407, 0.0788895 , 0.0697209 , ..., 0.06057048, 0.07950313,\n",
            "       0.10134118]), array([46174., 73007., 22121., ...,   153., 35927., 77537.])), (array([0.06939524, 0.01754455, 0.09902212, ..., 0.09007474, 0.02757584,\n",
            "       0.0492817 ]), array([97244., 21431., 34701., ..., 63236., 37669., 86672.])), (array([0.07507163, 0.05566132, 0.06410326, ..., 0.0563021 , 0.05026278,\n",
            "       0.09156955]), array([   175.,  37307., 102320., ...,  24792.,  28230.,  22648.])), (array([0.0899384 , 0.04514997, 0.09188482, ..., 0.07577026, 0.09424309,\n",
            "       0.09389879]), array([110229.,  16455.,  89774., ...,  53454.,  53471.,  84536.]))] [1, 1, 1, 1]\n",
            "[(array([0.01772407, 0.0788895 , 0.0697209 , ..., 0.06057048, 0.07950313,\n",
            "       0.10134118]), array([46174., 73007., 22121., ...,   153., 35927., 77537.])), (array([0.06939524, 0.01754455, 0.09902212, ..., 0.09007474, 0.02757584,\n",
            "       0.0492817 ]), array([97244., 21431., 34701., ..., 63236., 37669., 86672.])), (array([0.07507163, 0.05566132, 0.06410326, ..., 0.0563021 , 0.05026278,\n",
            "       0.09156955]), array([   175.,  37307., 102320., ...,  24792.,  28230.,  22648.])), (array([0.0899384 , 0.04514997, 0.09188482, ..., 0.07577026, 0.09424309,\n",
            "       0.09389879]), array([110229.,  16455.,  89774., ...,  53454.,  53471.,  84536.])), (array([0.07279531, 0.070121  , 0.06604118, ..., 0.11312807, 0.03222526,\n",
            "       0.08484046]), array([ 9901., 34229.,  1960., ..., 73450., 35472.,   217.]))] [1, 1, 1, 1, 1]\n",
            "[(array([0.01772407, 0.0788895 , 0.0697209 , ..., 0.06057048, 0.07950313,\n",
            "       0.10134118]), array([46174., 73007., 22121., ...,   153., 35927., 77537.])), (array([0.06939524, 0.01754455, 0.09902212, ..., 0.09007474, 0.02757584,\n",
            "       0.0492817 ]), array([97244., 21431., 34701., ..., 63236., 37669., 86672.])), (array([0.07507163, 0.05566132, 0.06410326, ..., 0.0563021 , 0.05026278,\n",
            "       0.09156955]), array([   175.,  37307., 102320., ...,  24792.,  28230.,  22648.])), (array([0.0899384 , 0.04514997, 0.09188482, ..., 0.07577026, 0.09424309,\n",
            "       0.09389879]), array([110229.,  16455.,  89774., ...,  53454.,  53471.,  84536.])), (array([0.07279531, 0.070121  , 0.06604118, ..., 0.11312807, 0.03222526,\n",
            "       0.08484046]), array([ 9901., 34229.,  1960., ..., 73450., 35472.,   217.])), (array([0.01942706, 0.07146839, 0.06442254, ..., 0.07989334, 0.05786621,\n",
            "       0.07649292]), array([96929., 82399.,  6593., ..., 99468., 33943., 43858.]))] [1, 1, 1, 1, 1, 1]\n",
            "[(array([0.01772407, 0.0788895 , 0.0697209 , ..., 0.06057048, 0.07950313,\n",
            "       0.10134118]), array([46174., 73007., 22121., ...,   153., 35927., 77537.])), (array([0.06939524, 0.01754455, 0.09902212, ..., 0.09007474, 0.02757584,\n",
            "       0.0492817 ]), array([97244., 21431., 34701., ..., 63236., 37669., 86672.])), (array([0.07507163, 0.05566132, 0.06410326, ..., 0.0563021 , 0.05026278,\n",
            "       0.09156955]), array([   175.,  37307., 102320., ...,  24792.,  28230.,  22648.])), (array([0.0899384 , 0.04514997, 0.09188482, ..., 0.07577026, 0.09424309,\n",
            "       0.09389879]), array([110229.,  16455.,  89774., ...,  53454.,  53471.,  84536.])), (array([0.07279531, 0.070121  , 0.06604118, ..., 0.11312807, 0.03222526,\n",
            "       0.08484046]), array([ 9901., 34229.,  1960., ..., 73450., 35472.,   217.])), (array([0.01942706, 0.07146839, 0.06442254, ..., 0.07989334, 0.05786621,\n",
            "       0.07649292]), array([96929., 82399.,  6593., ..., 99468., 33943., 43858.])), (array([0.06569089, 0.06415199, 0.09581566, ..., 0.09464246, 0.07951439,\n",
            "       0.05556984]), array([47522., 94288., 20707., ..., 75079., 96118., 11531.]))] [1, 1, 1, 1, 1, 1, 1]\n",
            "[(array([0.01772407, 0.0788895 , 0.0697209 , ..., 0.06057048, 0.07950313,\n",
            "       0.10134118]), array([46174., 73007., 22121., ...,   153., 35927., 77537.])), (array([0.06939524, 0.01754455, 0.09902212, ..., 0.09007474, 0.02757584,\n",
            "       0.0492817 ]), array([97244., 21431., 34701., ..., 63236., 37669., 86672.])), (array([0.07507163, 0.05566132, 0.06410326, ..., 0.0563021 , 0.05026278,\n",
            "       0.09156955]), array([   175.,  37307., 102320., ...,  24792.,  28230.,  22648.])), (array([0.0899384 , 0.04514997, 0.09188482, ..., 0.07577026, 0.09424309,\n",
            "       0.09389879]), array([110229.,  16455.,  89774., ...,  53454.,  53471.,  84536.])), (array([0.07279531, 0.070121  , 0.06604118, ..., 0.11312807, 0.03222526,\n",
            "       0.08484046]), array([ 9901., 34229.,  1960., ..., 73450., 35472.,   217.])), (array([0.01942706, 0.07146839, 0.06442254, ..., 0.07989334, 0.05786621,\n",
            "       0.07649292]), array([96929., 82399.,  6593., ..., 99468., 33943., 43858.])), (array([0.06569089, 0.06415199, 0.09581566, ..., 0.09464246, 0.07951439,\n",
            "       0.05556984]), array([47522., 94288., 20707., ..., 75079., 96118., 11531.])), (array([0.08106031, 0.04931641, 0.04324288, ..., 0.11333978, 0.0300625 ,\n",
            "       0.03360956]), array([103921.,  16951.,  33977., ...,  95164.,  42069.,  86045.]))] [1, 1, 1, 1, 1, 1, 1, 1]\n",
            "[(array([0.01772407, 0.0788895 , 0.0697209 , ..., 0.06057048, 0.07950313,\n",
            "       0.10134118]), array([46174., 73007., 22121., ...,   153., 35927., 77537.])), (array([0.06939524, 0.01754455, 0.09902212, ..., 0.09007474, 0.02757584,\n",
            "       0.0492817 ]), array([97244., 21431., 34701., ..., 63236., 37669., 86672.])), (array([0.07507163, 0.05566132, 0.06410326, ..., 0.0563021 , 0.05026278,\n",
            "       0.09156955]), array([   175.,  37307., 102320., ...,  24792.,  28230.,  22648.])), (array([0.0899384 , 0.04514997, 0.09188482, ..., 0.07577026, 0.09424309,\n",
            "       0.09389879]), array([110229.,  16455.,  89774., ...,  53454.,  53471.,  84536.])), (array([0.07279531, 0.070121  , 0.06604118, ..., 0.11312807, 0.03222526,\n",
            "       0.08484046]), array([ 9901., 34229.,  1960., ..., 73450., 35472.,   217.])), (array([0.01942706, 0.07146839, 0.06442254, ..., 0.07989334, 0.05786621,\n",
            "       0.07649292]), array([96929., 82399.,  6593., ..., 99468., 33943., 43858.])), (array([0.06569089, 0.06415199, 0.09581566, ..., 0.09464246, 0.07951439,\n",
            "       0.05556984]), array([47522., 94288., 20707., ..., 75079., 96118., 11531.])), (array([0.08106031, 0.04931641, 0.04324288, ..., 0.11333978, 0.0300625 ,\n",
            "       0.03360956]), array([103921.,  16951.,  33977., ...,  95164.,  42069.,  86045.])), (array([0.04822506, 0.04961116, 0.09221956, ..., 0.09699763, 0.05974574,\n",
            "       0.07544182]), array([38402., 50317., 34951., ..., 70550., 55628., 13219.]))] [1, 1, 1, 1, 1, 1, 1, 1, 1]\n",
            "[(array([0.01772407, 0.0788895 , 0.0697209 , ..., 0.06057048, 0.07950313,\n",
            "       0.10134118]), array([46174., 73007., 22121., ...,   153., 35927., 77537.])), (array([0.06939524, 0.01754455, 0.09902212, ..., 0.09007474, 0.02757584,\n",
            "       0.0492817 ]), array([97244., 21431., 34701., ..., 63236., 37669., 86672.])), (array([0.07507163, 0.05566132, 0.06410326, ..., 0.0563021 , 0.05026278,\n",
            "       0.09156955]), array([   175.,  37307., 102320., ...,  24792.,  28230.,  22648.])), (array([0.0899384 , 0.04514997, 0.09188482, ..., 0.07577026, 0.09424309,\n",
            "       0.09389879]), array([110229.,  16455.,  89774., ...,  53454.,  53471.,  84536.])), (array([0.07279531, 0.070121  , 0.06604118, ..., 0.11312807, 0.03222526,\n",
            "       0.08484046]), array([ 9901., 34229.,  1960., ..., 73450., 35472.,   217.])), (array([0.01942706, 0.07146839, 0.06442254, ..., 0.07989334, 0.05786621,\n",
            "       0.07649292]), array([96929., 82399.,  6593., ..., 99468., 33943., 43858.])), (array([0.06569089, 0.06415199, 0.09581566, ..., 0.09464246, 0.07951439,\n",
            "       0.05556984]), array([47522., 94288., 20707., ..., 75079., 96118., 11531.])), (array([0.08106031, 0.04931641, 0.04324288, ..., 0.11333978, 0.0300625 ,\n",
            "       0.03360956]), array([103921.,  16951.,  33977., ...,  95164.,  42069.,  86045.])), (array([0.04822506, 0.04961116, 0.09221956, ..., 0.09699763, 0.05974574,\n",
            "       0.07544182]), array([38402., 50317., 34951., ..., 70550., 55628., 13219.])), (array([0.07385165, 0.08991476, 0.05393786, ..., 0.04683164, 0.06807562,\n",
            "       0.07763692]), array([57961., 33220., 33221., ..., 21917., 23994.,  7553.]))] [1, 1, 1, 1, 1, 1, 1, 1, 1, 1]\n",
            "[(array([0.01772407, 0.0788895 , 0.0697209 , ..., 0.06057048, 0.07950313,\n",
            "       0.10134118]), array([46174., 73007., 22121., ...,   153., 35927., 77537.])), (array([0.06939524, 0.01754455, 0.09902212, ..., 0.09007474, 0.02757584,\n",
            "       0.0492817 ]), array([97244., 21431., 34701., ..., 63236., 37669., 86672.])), (array([0.07507163, 0.05566132, 0.06410326, ..., 0.0563021 , 0.05026278,\n",
            "       0.09156955]), array([   175.,  37307., 102320., ...,  24792.,  28230.,  22648.])), (array([0.0899384 , 0.04514997, 0.09188482, ..., 0.07577026, 0.09424309,\n",
            "       0.09389879]), array([110229.,  16455.,  89774., ...,  53454.,  53471.,  84536.])), (array([0.07279531, 0.070121  , 0.06604118, ..., 0.11312807, 0.03222526,\n",
            "       0.08484046]), array([ 9901., 34229.,  1960., ..., 73450., 35472.,   217.])), (array([0.01942706, 0.07146839, 0.06442254, ..., 0.07989334, 0.05786621,\n",
            "       0.07649292]), array([96929., 82399.,  6593., ..., 99468., 33943., 43858.])), (array([0.06569089, 0.06415199, 0.09581566, ..., 0.09464246, 0.07951439,\n",
            "       0.05556984]), array([47522., 94288., 20707., ..., 75079., 96118., 11531.])), (array([0.08106031, 0.04931641, 0.04324288, ..., 0.11333978, 0.0300625 ,\n",
            "       0.03360956]), array([103921.,  16951.,  33977., ...,  95164.,  42069.,  86045.])), (array([0.04822506, 0.04961116, 0.09221956, ..., 0.09699763, 0.05974574,\n",
            "       0.07544182]), array([38402., 50317., 34951., ..., 70550., 55628., 13219.])), (array([0.07385165, 0.08991476, 0.05393786, ..., 0.04683164, 0.06807562,\n",
            "       0.07763692]), array([57961., 33220., 33221., ..., 21917., 23994.,  7553.])), (array([0.06348865, 0.10808947, 0.07472507, ..., 0.07497165, 0.05224794,\n",
            "       0.10642957]), array([22889., 16664., 48460., ..., 56518., 40057., 84839.]))] [1, 1, 1, 1, 1, 1, 1, 1, 1, 1, 1]\n",
            "[(array([0.01772407, 0.0788895 , 0.0697209 , ..., 0.06057048, 0.07950313,\n",
            "       0.10134118]), array([46174., 73007., 22121., ...,   153., 35927., 77537.])), (array([0.06939524, 0.01754455, 0.09902212, ..., 0.09007474, 0.02757584,\n",
            "       0.0492817 ]), array([97244., 21431., 34701., ..., 63236., 37669., 86672.])), (array([0.07507163, 0.05566132, 0.06410326, ..., 0.0563021 , 0.05026278,\n",
            "       0.09156955]), array([   175.,  37307., 102320., ...,  24792.,  28230.,  22648.])), (array([0.0899384 , 0.04514997, 0.09188482, ..., 0.07577026, 0.09424309,\n",
            "       0.09389879]), array([110229.,  16455.,  89774., ...,  53454.,  53471.,  84536.])), (array([0.07279531, 0.070121  , 0.06604118, ..., 0.11312807, 0.03222526,\n",
            "       0.08484046]), array([ 9901., 34229.,  1960., ..., 73450., 35472.,   217.])), (array([0.01942706, 0.07146839, 0.06442254, ..., 0.07989334, 0.05786621,\n",
            "       0.07649292]), array([96929., 82399.,  6593., ..., 99468., 33943., 43858.])), (array([0.06569089, 0.06415199, 0.09581566, ..., 0.09464246, 0.07951439,\n",
            "       0.05556984]), array([47522., 94288., 20707., ..., 75079., 96118., 11531.])), (array([0.08106031, 0.04931641, 0.04324288, ..., 0.11333978, 0.0300625 ,\n",
            "       0.03360956]), array([103921.,  16951.,  33977., ...,  95164.,  42069.,  86045.])), (array([0.04822506, 0.04961116, 0.09221956, ..., 0.09699763, 0.05974574,\n",
            "       0.07544182]), array([38402., 50317., 34951., ..., 70550., 55628., 13219.])), (array([0.07385165, 0.08991476, 0.05393786, ..., 0.04683164, 0.06807562,\n",
            "       0.07763692]), array([57961., 33220., 33221., ..., 21917., 23994.,  7553.])), (array([0.06348865, 0.10808947, 0.07472507, ..., 0.07497165, 0.05224794,\n",
            "       0.10642957]), array([22889., 16664., 48460., ..., 56518., 40057., 84839.])), (array([0.06629278, 0.06296081, 0.03929225, ..., 0.07299227, 0.11861994,\n",
            "       0.05291957]), array([92222., 46818.,  7023., ..., 89663., 77279., 31034.]))] [1, 1, 1, 1, 1, 1, 1, 1, 1, 1, 1, 1]\n",
            "[(array([0.01772407, 0.0788895 , 0.0697209 , ..., 0.06057048, 0.07950313,\n",
            "       0.10134118]), array([46174., 73007., 22121., ...,   153., 35927., 77537.])), (array([0.06939524, 0.01754455, 0.09902212, ..., 0.09007474, 0.02757584,\n",
            "       0.0492817 ]), array([97244., 21431., 34701., ..., 63236., 37669., 86672.])), (array([0.07507163, 0.05566132, 0.06410326, ..., 0.0563021 , 0.05026278,\n",
            "       0.09156955]), array([   175.,  37307., 102320., ...,  24792.,  28230.,  22648.])), (array([0.0899384 , 0.04514997, 0.09188482, ..., 0.07577026, 0.09424309,\n",
            "       0.09389879]), array([110229.,  16455.,  89774., ...,  53454.,  53471.,  84536.])), (array([0.07279531, 0.070121  , 0.06604118, ..., 0.11312807, 0.03222526,\n",
            "       0.08484046]), array([ 9901., 34229.,  1960., ..., 73450., 35472.,   217.])), (array([0.01942706, 0.07146839, 0.06442254, ..., 0.07989334, 0.05786621,\n",
            "       0.07649292]), array([96929., 82399.,  6593., ..., 99468., 33943., 43858.])), (array([0.06569089, 0.06415199, 0.09581566, ..., 0.09464246, 0.07951439,\n",
            "       0.05556984]), array([47522., 94288., 20707., ..., 75079., 96118., 11531.])), (array([0.08106031, 0.04931641, 0.04324288, ..., 0.11333978, 0.0300625 ,\n",
            "       0.03360956]), array([103921.,  16951.,  33977., ...,  95164.,  42069.,  86045.])), (array([0.04822506, 0.04961116, 0.09221956, ..., 0.09699763, 0.05974574,\n",
            "       0.07544182]), array([38402., 50317., 34951., ..., 70550., 55628., 13219.])), (array([0.07385165, 0.08991476, 0.05393786, ..., 0.04683164, 0.06807562,\n",
            "       0.07763692]), array([57961., 33220., 33221., ..., 21917., 23994.,  7553.])), (array([0.06348865, 0.10808947, 0.07472507, ..., 0.07497165, 0.05224794,\n",
            "       0.10642957]), array([22889., 16664., 48460., ..., 56518., 40057., 84839.])), (array([0.06629278, 0.06296081, 0.03929225, ..., 0.07299227, 0.11861994,\n",
            "       0.05291957]), array([92222., 46818.,  7023., ..., 89663., 77279., 31034.])), (array([0.07875016, 0.07347536, 0.03147538, ..., 0.05755184, 0.06303197,\n",
            "       0.06506269]), array([ 34064.,  60401.,  91054., ..., 101663.,  42684.,  22373.]))] [1, 1, 1, 1, 1, 1, 1, 1, 1, 1, 1, 1, 1]\n",
            "[(array([0.01772407, 0.0788895 , 0.0697209 , ..., 0.06057048, 0.07950313,\n",
            "       0.10134118]), array([46174., 73007., 22121., ...,   153., 35927., 77537.])), (array([0.06939524, 0.01754455, 0.09902212, ..., 0.09007474, 0.02757584,\n",
            "       0.0492817 ]), array([97244., 21431., 34701., ..., 63236., 37669., 86672.])), (array([0.07507163, 0.05566132, 0.06410326, ..., 0.0563021 , 0.05026278,\n",
            "       0.09156955]), array([   175.,  37307., 102320., ...,  24792.,  28230.,  22648.])), (array([0.0899384 , 0.04514997, 0.09188482, ..., 0.07577026, 0.09424309,\n",
            "       0.09389879]), array([110229.,  16455.,  89774., ...,  53454.,  53471.,  84536.])), (array([0.07279531, 0.070121  , 0.06604118, ..., 0.11312807, 0.03222526,\n",
            "       0.08484046]), array([ 9901., 34229.,  1960., ..., 73450., 35472.,   217.])), (array([0.01942706, 0.07146839, 0.06442254, ..., 0.07989334, 0.05786621,\n",
            "       0.07649292]), array([96929., 82399.,  6593., ..., 99468., 33943., 43858.])), (array([0.06569089, 0.06415199, 0.09581566, ..., 0.09464246, 0.07951439,\n",
            "       0.05556984]), array([47522., 94288., 20707., ..., 75079., 96118., 11531.])), (array([0.08106031, 0.04931641, 0.04324288, ..., 0.11333978, 0.0300625 ,\n",
            "       0.03360956]), array([103921.,  16951.,  33977., ...,  95164.,  42069.,  86045.])), (array([0.04822506, 0.04961116, 0.09221956, ..., 0.09699763, 0.05974574,\n",
            "       0.07544182]), array([38402., 50317., 34951., ..., 70550., 55628., 13219.])), (array([0.07385165, 0.08991476, 0.05393786, ..., 0.04683164, 0.06807562,\n",
            "       0.07763692]), array([57961., 33220., 33221., ..., 21917., 23994.,  7553.])), (array([0.06348865, 0.10808947, 0.07472507, ..., 0.07497165, 0.05224794,\n",
            "       0.10642957]), array([22889., 16664., 48460., ..., 56518., 40057., 84839.])), (array([0.06629278, 0.06296081, 0.03929225, ..., 0.07299227, 0.11861994,\n",
            "       0.05291957]), array([92222., 46818.,  7023., ..., 89663., 77279., 31034.])), (array([0.07875016, 0.07347536, 0.03147538, ..., 0.05755184, 0.06303197,\n",
            "       0.06506269]), array([ 34064.,  60401.,  91054., ..., 101663.,  42684.,  22373.])), (array([0.10859008, 0.06318163, 0.07822172, ..., 0.05270477, 0.04422345,\n",
            "       0.09493962]), array([101246.,  99890.,  45176., ...,  79448., 105544.,  35913.]))] [1, 1, 1, 1, 1, 1, 1, 1, 1, 1, 1, 1, 1, 1]\n",
            "[(array([0.01772407, 0.0788895 , 0.0697209 , ..., 0.06057048, 0.07950313,\n",
            "       0.10134118]), array([46174., 73007., 22121., ...,   153., 35927., 77537.])), (array([0.06939524, 0.01754455, 0.09902212, ..., 0.09007474, 0.02757584,\n",
            "       0.0492817 ]), array([97244., 21431., 34701., ..., 63236., 37669., 86672.])), (array([0.07507163, 0.05566132, 0.06410326, ..., 0.0563021 , 0.05026278,\n",
            "       0.09156955]), array([   175.,  37307., 102320., ...,  24792.,  28230.,  22648.])), (array([0.0899384 , 0.04514997, 0.09188482, ..., 0.07577026, 0.09424309,\n",
            "       0.09389879]), array([110229.,  16455.,  89774., ...,  53454.,  53471.,  84536.])), (array([0.07279531, 0.070121  , 0.06604118, ..., 0.11312807, 0.03222526,\n",
            "       0.08484046]), array([ 9901., 34229.,  1960., ..., 73450., 35472.,   217.])), (array([0.01942706, 0.07146839, 0.06442254, ..., 0.07989334, 0.05786621,\n",
            "       0.07649292]), array([96929., 82399.,  6593., ..., 99468., 33943., 43858.])), (array([0.06569089, 0.06415199, 0.09581566, ..., 0.09464246, 0.07951439,\n",
            "       0.05556984]), array([47522., 94288., 20707., ..., 75079., 96118., 11531.])), (array([0.08106031, 0.04931641, 0.04324288, ..., 0.11333978, 0.0300625 ,\n",
            "       0.03360956]), array([103921.,  16951.,  33977., ...,  95164.,  42069.,  86045.])), (array([0.04822506, 0.04961116, 0.09221956, ..., 0.09699763, 0.05974574,\n",
            "       0.07544182]), array([38402., 50317., 34951., ..., 70550., 55628., 13219.])), (array([0.07385165, 0.08991476, 0.05393786, ..., 0.04683164, 0.06807562,\n",
            "       0.07763692]), array([57961., 33220., 33221., ..., 21917., 23994.,  7553.])), (array([0.06348865, 0.10808947, 0.07472507, ..., 0.07497165, 0.05224794,\n",
            "       0.10642957]), array([22889., 16664., 48460., ..., 56518., 40057., 84839.])), (array([0.06629278, 0.06296081, 0.03929225, ..., 0.07299227, 0.11861994,\n",
            "       0.05291957]), array([92222., 46818.,  7023., ..., 89663., 77279., 31034.])), (array([0.07875016, 0.07347536, 0.03147538, ..., 0.05755184, 0.06303197,\n",
            "       0.06506269]), array([ 34064.,  60401.,  91054., ..., 101663.,  42684.,  22373.])), (array([0.10859008, 0.06318163, 0.07822172, ..., 0.05270477, 0.04422345,\n",
            "       0.09493962]), array([101246.,  99890.,  45176., ...,  79448., 105544.,  35913.])), (array([0.06253405, 0.08511453, 0.03011066, ..., 0.06371269, 0.03982977,\n",
            "       0.0400139 ]), array([ 2877.,  9069., 35202., ..., 44252., 28728.,  1949.]))] [1, 1, 1, 1, 1, 1, 1, 1, 1, 1, 1, 1, 1, 1, 1]\n",
            "[(array([0.01772407, 0.0788895 , 0.0697209 , ..., 0.06057048, 0.07950313,\n",
            "       0.10134118]), array([46174., 73007., 22121., ...,   153., 35927., 77537.])), (array([0.06939524, 0.01754455, 0.09902212, ..., 0.09007474, 0.02757584,\n",
            "       0.0492817 ]), array([97244., 21431., 34701., ..., 63236., 37669., 86672.])), (array([0.07507163, 0.05566132, 0.06410326, ..., 0.0563021 , 0.05026278,\n",
            "       0.09156955]), array([   175.,  37307., 102320., ...,  24792.,  28230.,  22648.])), (array([0.0899384 , 0.04514997, 0.09188482, ..., 0.07577026, 0.09424309,\n",
            "       0.09389879]), array([110229.,  16455.,  89774., ...,  53454.,  53471.,  84536.])), (array([0.07279531, 0.070121  , 0.06604118, ..., 0.11312807, 0.03222526,\n",
            "       0.08484046]), array([ 9901., 34229.,  1960., ..., 73450., 35472.,   217.])), (array([0.01942706, 0.07146839, 0.06442254, ..., 0.07989334, 0.05786621,\n",
            "       0.07649292]), array([96929., 82399.,  6593., ..., 99468., 33943., 43858.])), (array([0.06569089, 0.06415199, 0.09581566, ..., 0.09464246, 0.07951439,\n",
            "       0.05556984]), array([47522., 94288., 20707., ..., 75079., 96118., 11531.])), (array([0.08106031, 0.04931641, 0.04324288, ..., 0.11333978, 0.0300625 ,\n",
            "       0.03360956]), array([103921.,  16951.,  33977., ...,  95164.,  42069.,  86045.])), (array([0.04822506, 0.04961116, 0.09221956, ..., 0.09699763, 0.05974574,\n",
            "       0.07544182]), array([38402., 50317., 34951., ..., 70550., 55628., 13219.])), (array([0.07385165, 0.08991476, 0.05393786, ..., 0.04683164, 0.06807562,\n",
            "       0.07763692]), array([57961., 33220., 33221., ..., 21917., 23994.,  7553.])), (array([0.06348865, 0.10808947, 0.07472507, ..., 0.07497165, 0.05224794,\n",
            "       0.10642957]), array([22889., 16664., 48460., ..., 56518., 40057., 84839.])), (array([0.06629278, 0.06296081, 0.03929225, ..., 0.07299227, 0.11861994,\n",
            "       0.05291957]), array([92222., 46818.,  7023., ..., 89663., 77279., 31034.])), (array([0.07875016, 0.07347536, 0.03147538, ..., 0.05755184, 0.06303197,\n",
            "       0.06506269]), array([ 34064.,  60401.,  91054., ..., 101663.,  42684.,  22373.])), (array([0.10859008, 0.06318163, 0.07822172, ..., 0.05270477, 0.04422345,\n",
            "       0.09493962]), array([101246.,  99890.,  45176., ...,  79448., 105544.,  35913.])), (array([0.06253405, 0.08511453, 0.03011066, ..., 0.06371269, 0.03982977,\n",
            "       0.0400139 ]), array([ 2877.,  9069., 35202., ..., 44252., 28728.,  1949.])), (array([0.07656382, 0.1010027 , 0.07774071, ..., 0.05228973, 0.03347848,\n",
            "       0.07886389]), array([ 37993.,  70426.,  18720., ...,  72890.,  31869., 100056.]))] [1, 1, 1, 1, 1, 1, 1, 1, 1, 1, 1, 1, 1, 1, 1, 1]\n",
            "[(array([0.01772407, 0.0788895 , 0.0697209 , ..., 0.06057048, 0.07950313,\n",
            "       0.10134118]), array([46174., 73007., 22121., ...,   153., 35927., 77537.])), (array([0.06939524, 0.01754455, 0.09902212, ..., 0.09007474, 0.02757584,\n",
            "       0.0492817 ]), array([97244., 21431., 34701., ..., 63236., 37669., 86672.])), (array([0.07507163, 0.05566132, 0.06410326, ..., 0.0563021 , 0.05026278,\n",
            "       0.09156955]), array([   175.,  37307., 102320., ...,  24792.,  28230.,  22648.])), (array([0.0899384 , 0.04514997, 0.09188482, ..., 0.07577026, 0.09424309,\n",
            "       0.09389879]), array([110229.,  16455.,  89774., ...,  53454.,  53471.,  84536.])), (array([0.07279531, 0.070121  , 0.06604118, ..., 0.11312807, 0.03222526,\n",
            "       0.08484046]), array([ 9901., 34229.,  1960., ..., 73450., 35472.,   217.])), (array([0.01942706, 0.07146839, 0.06442254, ..., 0.07989334, 0.05786621,\n",
            "       0.07649292]), array([96929., 82399.,  6593., ..., 99468., 33943., 43858.])), (array([0.06569089, 0.06415199, 0.09581566, ..., 0.09464246, 0.07951439,\n",
            "       0.05556984]), array([47522., 94288., 20707., ..., 75079., 96118., 11531.])), (array([0.08106031, 0.04931641, 0.04324288, ..., 0.11333978, 0.0300625 ,\n",
            "       0.03360956]), array([103921.,  16951.,  33977., ...,  95164.,  42069.,  86045.])), (array([0.04822506, 0.04961116, 0.09221956, ..., 0.09699763, 0.05974574,\n",
            "       0.07544182]), array([38402., 50317., 34951., ..., 70550., 55628., 13219.])), (array([0.07385165, 0.08991476, 0.05393786, ..., 0.04683164, 0.06807562,\n",
            "       0.07763692]), array([57961., 33220., 33221., ..., 21917., 23994.,  7553.])), (array([0.06348865, 0.10808947, 0.07472507, ..., 0.07497165, 0.05224794,\n",
            "       0.10642957]), array([22889., 16664., 48460., ..., 56518., 40057., 84839.])), (array([0.06629278, 0.06296081, 0.03929225, ..., 0.07299227, 0.11861994,\n",
            "       0.05291957]), array([92222., 46818.,  7023., ..., 89663., 77279., 31034.])), (array([0.07875016, 0.07347536, 0.03147538, ..., 0.05755184, 0.06303197,\n",
            "       0.06506269]), array([ 34064.,  60401.,  91054., ..., 101663.,  42684.,  22373.])), (array([0.10859008, 0.06318163, 0.07822172, ..., 0.05270477, 0.04422345,\n",
            "       0.09493962]), array([101246.,  99890.,  45176., ...,  79448., 105544.,  35913.])), (array([0.06253405, 0.08511453, 0.03011066, ..., 0.06371269, 0.03982977,\n",
            "       0.0400139 ]), array([ 2877.,  9069., 35202., ..., 44252., 28728.,  1949.])), (array([0.07656382, 0.1010027 , 0.07774071, ..., 0.05228973, 0.03347848,\n",
            "       0.07886389]), array([ 37993.,  70426.,  18720., ...,  72890.,  31869., 100056.])), (array([0.07965397, 0.08218597, 0.02746243, ..., 0.04201302, 0.03431869,\n",
            "       0.0520777 ]), array([  261., 12089., 17133., ..., 56648., 57986.,  9421.]))] [1, 1, 1, 1, 1, 1, 1, 1, 1, 1, 1, 1, 1, 1, 1, 1, 1]\n",
            "[(array([0.01772407, 0.0788895 , 0.0697209 , ..., 0.06057048, 0.07950313,\n",
            "       0.10134118]), array([46174., 73007., 22121., ...,   153., 35927., 77537.])), (array([0.06939524, 0.01754455, 0.09902212, ..., 0.09007474, 0.02757584,\n",
            "       0.0492817 ]), array([97244., 21431., 34701., ..., 63236., 37669., 86672.])), (array([0.07507163, 0.05566132, 0.06410326, ..., 0.0563021 , 0.05026278,\n",
            "       0.09156955]), array([   175.,  37307., 102320., ...,  24792.,  28230.,  22648.])), (array([0.0899384 , 0.04514997, 0.09188482, ..., 0.07577026, 0.09424309,\n",
            "       0.09389879]), array([110229.,  16455.,  89774., ...,  53454.,  53471.,  84536.])), (array([0.07279531, 0.070121  , 0.06604118, ..., 0.11312807, 0.03222526,\n",
            "       0.08484046]), array([ 9901., 34229.,  1960., ..., 73450., 35472.,   217.])), (array([0.01942706, 0.07146839, 0.06442254, ..., 0.07989334, 0.05786621,\n",
            "       0.07649292]), array([96929., 82399.,  6593., ..., 99468., 33943., 43858.])), (array([0.06569089, 0.06415199, 0.09581566, ..., 0.09464246, 0.07951439,\n",
            "       0.05556984]), array([47522., 94288., 20707., ..., 75079., 96118., 11531.])), (array([0.08106031, 0.04931641, 0.04324288, ..., 0.11333978, 0.0300625 ,\n",
            "       0.03360956]), array([103921.,  16951.,  33977., ...,  95164.,  42069.,  86045.])), (array([0.04822506, 0.04961116, 0.09221956, ..., 0.09699763, 0.05974574,\n",
            "       0.07544182]), array([38402., 50317., 34951., ..., 70550., 55628., 13219.])), (array([0.07385165, 0.08991476, 0.05393786, ..., 0.04683164, 0.06807562,\n",
            "       0.07763692]), array([57961., 33220., 33221., ..., 21917., 23994.,  7553.])), (array([0.06348865, 0.10808947, 0.07472507, ..., 0.07497165, 0.05224794,\n",
            "       0.10642957]), array([22889., 16664., 48460., ..., 56518., 40057., 84839.])), (array([0.06629278, 0.06296081, 0.03929225, ..., 0.07299227, 0.11861994,\n",
            "       0.05291957]), array([92222., 46818.,  7023., ..., 89663., 77279., 31034.])), (array([0.07875016, 0.07347536, 0.03147538, ..., 0.05755184, 0.06303197,\n",
            "       0.06506269]), array([ 34064.,  60401.,  91054., ..., 101663.,  42684.,  22373.])), (array([0.10859008, 0.06318163, 0.07822172, ..., 0.05270477, 0.04422345,\n",
            "       0.09493962]), array([101246.,  99890.,  45176., ...,  79448., 105544.,  35913.])), (array([0.06253405, 0.08511453, 0.03011066, ..., 0.06371269, 0.03982977,\n",
            "       0.0400139 ]), array([ 2877.,  9069., 35202., ..., 44252., 28728.,  1949.])), (array([0.07656382, 0.1010027 , 0.07774071, ..., 0.05228973, 0.03347848,\n",
            "       0.07886389]), array([ 37993.,  70426.,  18720., ...,  72890.,  31869., 100056.])), (array([0.07965397, 0.08218597, 0.02746243, ..., 0.04201302, 0.03431869,\n",
            "       0.0520777 ]), array([  261., 12089., 17133., ..., 56648., 57986.,  9421.])), (array([0.07349499, 0.10500651, 0.10233754, ..., 0.08847256, 0.08313937,\n",
            "       0.08386837]), array([  420., 97413., 22419., ..., 69205., 84033.,  8320.]))] [1, 1, 1, 1, 1, 1, 1, 1, 1, 1, 1, 1, 1, 1, 1, 1, 1, 1]\n",
            "[(array([0.01772407, 0.0788895 , 0.0697209 , ..., 0.06057048, 0.07950313,\n",
            "       0.10134118]), array([46174., 73007., 22121., ...,   153., 35927., 77537.])), (array([0.06939524, 0.01754455, 0.09902212, ..., 0.09007474, 0.02757584,\n",
            "       0.0492817 ]), array([97244., 21431., 34701., ..., 63236., 37669., 86672.])), (array([0.07507163, 0.05566132, 0.06410326, ..., 0.0563021 , 0.05026278,\n",
            "       0.09156955]), array([   175.,  37307., 102320., ...,  24792.,  28230.,  22648.])), (array([0.0899384 , 0.04514997, 0.09188482, ..., 0.07577026, 0.09424309,\n",
            "       0.09389879]), array([110229.,  16455.,  89774., ...,  53454.,  53471.,  84536.])), (array([0.07279531, 0.070121  , 0.06604118, ..., 0.11312807, 0.03222526,\n",
            "       0.08484046]), array([ 9901., 34229.,  1960., ..., 73450., 35472.,   217.])), (array([0.01942706, 0.07146839, 0.06442254, ..., 0.07989334, 0.05786621,\n",
            "       0.07649292]), array([96929., 82399.,  6593., ..., 99468., 33943., 43858.])), (array([0.06569089, 0.06415199, 0.09581566, ..., 0.09464246, 0.07951439,\n",
            "       0.05556984]), array([47522., 94288., 20707., ..., 75079., 96118., 11531.])), (array([0.08106031, 0.04931641, 0.04324288, ..., 0.11333978, 0.0300625 ,\n",
            "       0.03360956]), array([103921.,  16951.,  33977., ...,  95164.,  42069.,  86045.])), (array([0.04822506, 0.04961116, 0.09221956, ..., 0.09699763, 0.05974574,\n",
            "       0.07544182]), array([38402., 50317., 34951., ..., 70550., 55628., 13219.])), (array([0.07385165, 0.08991476, 0.05393786, ..., 0.04683164, 0.06807562,\n",
            "       0.07763692]), array([57961., 33220., 33221., ..., 21917., 23994.,  7553.])), (array([0.06348865, 0.10808947, 0.07472507, ..., 0.07497165, 0.05224794,\n",
            "       0.10642957]), array([22889., 16664., 48460., ..., 56518., 40057., 84839.])), (array([0.06629278, 0.06296081, 0.03929225, ..., 0.07299227, 0.11861994,\n",
            "       0.05291957]), array([92222., 46818.,  7023., ..., 89663., 77279., 31034.])), (array([0.07875016, 0.07347536, 0.03147538, ..., 0.05755184, 0.06303197,\n",
            "       0.06506269]), array([ 34064.,  60401.,  91054., ..., 101663.,  42684.,  22373.])), (array([0.10859008, 0.06318163, 0.07822172, ..., 0.05270477, 0.04422345,\n",
            "       0.09493962]), array([101246.,  99890.,  45176., ...,  79448., 105544.,  35913.])), (array([0.06253405, 0.08511453, 0.03011066, ..., 0.06371269, 0.03982977,\n",
            "       0.0400139 ]), array([ 2877.,  9069., 35202., ..., 44252., 28728.,  1949.])), (array([0.07656382, 0.1010027 , 0.07774071, ..., 0.05228973, 0.03347848,\n",
            "       0.07886389]), array([ 37993.,  70426.,  18720., ...,  72890.,  31869., 100056.])), (array([0.07965397, 0.08218597, 0.02746243, ..., 0.04201302, 0.03431869,\n",
            "       0.0520777 ]), array([  261., 12089., 17133., ..., 56648., 57986.,  9421.])), (array([0.07349499, 0.10500651, 0.10233754, ..., 0.08847256, 0.08313937,\n",
            "       0.08386837]), array([  420., 97413., 22419., ..., 69205., 84033.,  8320.])), (array([0.08516258, 0.04958244, 0.03357655, ..., 0.06493691, 0.04150495,\n",
            "       0.11266774]), array([80513., 19039., 96569., ...,  6853., 93469., 14689.]))] [1, 1, 1, 1, 1, 1, 1, 1, 1, 1, 1, 1, 1, 1, 1, 1, 1, 1, 1]\n",
            "[(array([0.01772407, 0.0788895 , 0.0697209 , ..., 0.06057048, 0.07950313,\n",
            "       0.10134118]), array([46174., 73007., 22121., ...,   153., 35927., 77537.])), (array([0.06939524, 0.01754455, 0.09902212, ..., 0.09007474, 0.02757584,\n",
            "       0.0492817 ]), array([97244., 21431., 34701., ..., 63236., 37669., 86672.])), (array([0.07507163, 0.05566132, 0.06410326, ..., 0.0563021 , 0.05026278,\n",
            "       0.09156955]), array([   175.,  37307., 102320., ...,  24792.,  28230.,  22648.])), (array([0.0899384 , 0.04514997, 0.09188482, ..., 0.07577026, 0.09424309,\n",
            "       0.09389879]), array([110229.,  16455.,  89774., ...,  53454.,  53471.,  84536.])), (array([0.07279531, 0.070121  , 0.06604118, ..., 0.11312807, 0.03222526,\n",
            "       0.08484046]), array([ 9901., 34229.,  1960., ..., 73450., 35472.,   217.])), (array([0.01942706, 0.07146839, 0.06442254, ..., 0.07989334, 0.05786621,\n",
            "       0.07649292]), array([96929., 82399.,  6593., ..., 99468., 33943., 43858.])), (array([0.06569089, 0.06415199, 0.09581566, ..., 0.09464246, 0.07951439,\n",
            "       0.05556984]), array([47522., 94288., 20707., ..., 75079., 96118., 11531.])), (array([0.08106031, 0.04931641, 0.04324288, ..., 0.11333978, 0.0300625 ,\n",
            "       0.03360956]), array([103921.,  16951.,  33977., ...,  95164.,  42069.,  86045.])), (array([0.04822506, 0.04961116, 0.09221956, ..., 0.09699763, 0.05974574,\n",
            "       0.07544182]), array([38402., 50317., 34951., ..., 70550., 55628., 13219.])), (array([0.07385165, 0.08991476, 0.05393786, ..., 0.04683164, 0.06807562,\n",
            "       0.07763692]), array([57961., 33220., 33221., ..., 21917., 23994.,  7553.])), (array([0.06348865, 0.10808947, 0.07472507, ..., 0.07497165, 0.05224794,\n",
            "       0.10642957]), array([22889., 16664., 48460., ..., 56518., 40057., 84839.])), (array([0.06629278, 0.06296081, 0.03929225, ..., 0.07299227, 0.11861994,\n",
            "       0.05291957]), array([92222., 46818.,  7023., ..., 89663., 77279., 31034.])), (array([0.07875016, 0.07347536, 0.03147538, ..., 0.05755184, 0.06303197,\n",
            "       0.06506269]), array([ 34064.,  60401.,  91054., ..., 101663.,  42684.,  22373.])), (array([0.10859008, 0.06318163, 0.07822172, ..., 0.05270477, 0.04422345,\n",
            "       0.09493962]), array([101246.,  99890.,  45176., ...,  79448., 105544.,  35913.])), (array([0.06253405, 0.08511453, 0.03011066, ..., 0.06371269, 0.03982977,\n",
            "       0.0400139 ]), array([ 2877.,  9069., 35202., ..., 44252., 28728.,  1949.])), (array([0.07656382, 0.1010027 , 0.07774071, ..., 0.05228973, 0.03347848,\n",
            "       0.07886389]), array([ 37993.,  70426.,  18720., ...,  72890.,  31869., 100056.])), (array([0.07965397, 0.08218597, 0.02746243, ..., 0.04201302, 0.03431869,\n",
            "       0.0520777 ]), array([  261., 12089., 17133., ..., 56648., 57986.,  9421.])), (array([0.07349499, 0.10500651, 0.10233754, ..., 0.08847256, 0.08313937,\n",
            "       0.08386837]), array([  420., 97413., 22419., ..., 69205., 84033.,  8320.])), (array([0.08516258, 0.04958244, 0.03357655, ..., 0.06493691, 0.04150495,\n",
            "       0.11266774]), array([80513., 19039., 96569., ...,  6853., 93469., 14689.])), (array([0.09013279, 0.06115517, 0.03184919, ..., 0.09726749, 0.07137856,\n",
            "       0.04439637]), array([66344., 97373., 46352., ..., 57518., 53199., 55612.]))] [1, 1, 1, 1, 1, 1, 1, 1, 1, 1, 1, 1, 1, 1, 1, 1, 1, 1, 1, 1]\n"
          ]
        }
      ]
    },
    {
      "cell_type": "code",
      "source": [
        "\n",
        "data = np.concatenate([neg_data, pos_data], axis=0)\n",
        "labels = np.concatenate([neg_labels, pos_labels], axis=0)"
      ],
      "metadata": {
        "id": "bM5jSa8vyk47"
      },
      "execution_count": null,
      "outputs": []
    },
    {
      "cell_type": "code",
      "source": [
        "print('total data:',len(data))\n",
        "print('total predictions',len(labels))\n"
      ],
      "metadata": {
        "colab": {
          "base_uri": "https://localhost:8080/"
        },
        "id": "FDW17xraytTM",
        "outputId": "65218540-6119-4361-bfa5-82f0c1412416"
      },
      "execution_count": null,
      "outputs": [
        {
          "output_type": "stream",
          "name": "stdout",
          "text": [
            "total data: 36\n",
            "total predictions 36\n"
          ]
        }
      ]
    },
    {
      "cell_type": "code",
      "source": [
        "train_data, test_data, train_labels, test_labels = train_test_split(data, labels, test_size=0.2, random_state=42)\n",
        "train_data_reshaped = np.array(train_data).reshape(len(train_data), -1)\n",
        "test_data_reshaped = np.array(test_data).reshape(len(test_data), -1)\n"
      ],
      "metadata": {
        "id": "HddzsxZKy_1n"
      },
      "execution_count": null,
      "outputs": []
    },
    {
      "cell_type": "code",
      "source": [
        "print('training data is:', len(train_data))\n",
        "print('testing data is:',len(test_data))"
      ],
      "metadata": {
        "colab": {
          "base_uri": "https://localhost:8080/"
        },
        "id": "YpYLTqLxzL7S",
        "outputId": "0e7beaaf-43d4-4421-b537-86a26fe1d07d"
      },
      "execution_count": null,
      "outputs": [
        {
          "output_type": "stream",
          "name": "stdout",
          "text": [
            "training data is: 28\n",
            "testing data is: 8\n"
          ]
        }
      ]
    },
    {
      "cell_type": "code",
      "source": [
        "rfc = RandomForestClassifier(n_estimators=100, random_state=42)\n",
        "rfc.fit(train_data_reshaped, train_labels)"
      ],
      "metadata": {
        "colab": {
          "base_uri": "https://localhost:8080/",
          "height": 74
        },
        "id": "pwQweeu0zYpT",
        "outputId": "bc0af252-a188-40e7-c109-01d0a317cc84"
      },
      "execution_count": null,
      "outputs": [
        {
          "output_type": "execute_result",
          "data": {
            "text/plain": [
              "RandomForestClassifier(random_state=42)"
            ],
            "text/html": [
              "<style>#sk-container-id-1 {color: black;background-color: white;}#sk-container-id-1 pre{padding: 0;}#sk-container-id-1 div.sk-toggleable {background-color: white;}#sk-container-id-1 label.sk-toggleable__label {cursor: pointer;display: block;width: 100%;margin-bottom: 0;padding: 0.3em;box-sizing: border-box;text-align: center;}#sk-container-id-1 label.sk-toggleable__label-arrow:before {content: \"▸\";float: left;margin-right: 0.25em;color: #696969;}#sk-container-id-1 label.sk-toggleable__label-arrow:hover:before {color: black;}#sk-container-id-1 div.sk-estimator:hover label.sk-toggleable__label-arrow:before {color: black;}#sk-container-id-1 div.sk-toggleable__content {max-height: 0;max-width: 0;overflow: hidden;text-align: left;background-color: #f0f8ff;}#sk-container-id-1 div.sk-toggleable__content pre {margin: 0.2em;color: black;border-radius: 0.25em;background-color: #f0f8ff;}#sk-container-id-1 input.sk-toggleable__control:checked~div.sk-toggleable__content {max-height: 200px;max-width: 100%;overflow: auto;}#sk-container-id-1 input.sk-toggleable__control:checked~label.sk-toggleable__label-arrow:before {content: \"▾\";}#sk-container-id-1 div.sk-estimator input.sk-toggleable__control:checked~label.sk-toggleable__label {background-color: #d4ebff;}#sk-container-id-1 div.sk-label input.sk-toggleable__control:checked~label.sk-toggleable__label {background-color: #d4ebff;}#sk-container-id-1 input.sk-hidden--visually {border: 0;clip: rect(1px 1px 1px 1px);clip: rect(1px, 1px, 1px, 1px);height: 1px;margin: -1px;overflow: hidden;padding: 0;position: absolute;width: 1px;}#sk-container-id-1 div.sk-estimator {font-family: monospace;background-color: #f0f8ff;border: 1px dotted black;border-radius: 0.25em;box-sizing: border-box;margin-bottom: 0.5em;}#sk-container-id-1 div.sk-estimator:hover {background-color: #d4ebff;}#sk-container-id-1 div.sk-parallel-item::after {content: \"\";width: 100%;border-bottom: 1px solid gray;flex-grow: 1;}#sk-container-id-1 div.sk-label:hover label.sk-toggleable__label {background-color: #d4ebff;}#sk-container-id-1 div.sk-serial::before {content: \"\";position: absolute;border-left: 1px solid gray;box-sizing: border-box;top: 0;bottom: 0;left: 50%;z-index: 0;}#sk-container-id-1 div.sk-serial {display: flex;flex-direction: column;align-items: center;background-color: white;padding-right: 0.2em;padding-left: 0.2em;position: relative;}#sk-container-id-1 div.sk-item {position: relative;z-index: 1;}#sk-container-id-1 div.sk-parallel {display: flex;align-items: stretch;justify-content: center;background-color: white;position: relative;}#sk-container-id-1 div.sk-item::before, #sk-container-id-1 div.sk-parallel-item::before {content: \"\";position: absolute;border-left: 1px solid gray;box-sizing: border-box;top: 0;bottom: 0;left: 50%;z-index: -1;}#sk-container-id-1 div.sk-parallel-item {display: flex;flex-direction: column;z-index: 1;position: relative;background-color: white;}#sk-container-id-1 div.sk-parallel-item:first-child::after {align-self: flex-end;width: 50%;}#sk-container-id-1 div.sk-parallel-item:last-child::after {align-self: flex-start;width: 50%;}#sk-container-id-1 div.sk-parallel-item:only-child::after {width: 0;}#sk-container-id-1 div.sk-dashed-wrapped {border: 1px dashed gray;margin: 0 0.4em 0.5em 0.4em;box-sizing: border-box;padding-bottom: 0.4em;background-color: white;}#sk-container-id-1 div.sk-label label {font-family: monospace;font-weight: bold;display: inline-block;line-height: 1.2em;}#sk-container-id-1 div.sk-label-container {text-align: center;}#sk-container-id-1 div.sk-container {/* jupyter's `normalize.less` sets `[hidden] { display: none; }` but bootstrap.min.css set `[hidden] { display: none !important; }` so we also need the `!important` here to be able to override the default hidden behavior on the sphinx rendered scikit-learn.org. See: https://github.com/scikit-learn/scikit-learn/issues/21755 */display: inline-block !important;position: relative;}#sk-container-id-1 div.sk-text-repr-fallback {display: none;}</style><div id=\"sk-container-id-1\" class=\"sk-top-container\"><div class=\"sk-text-repr-fallback\"><pre>RandomForestClassifier(random_state=42)</pre><b>In a Jupyter environment, please rerun this cell to show the HTML representation or trust the notebook. <br />On GitHub, the HTML representation is unable to render, please try loading this page with nbviewer.org.</b></div><div class=\"sk-container\" hidden><div class=\"sk-item\"><div class=\"sk-estimator sk-toggleable\"><input class=\"sk-toggleable__control sk-hidden--visually\" id=\"sk-estimator-id-1\" type=\"checkbox\" checked><label for=\"sk-estimator-id-1\" class=\"sk-toggleable__label sk-toggleable__label-arrow\">RandomForestClassifier</label><div class=\"sk-toggleable__content\"><pre>RandomForestClassifier(random_state=42)</pre></div></div></div></div></div>"
            ]
          },
          "metadata": {},
          "execution_count": 31
        }
      ]
    },
    {
      "cell_type": "code",
      "source": [
        "pred_labels = rfc.predict(test_data_reshaped)\n",
        "score = rfc.score(test_data_reshaped, test_labels)\n",
        "print('Accuracy:', score)"
      ],
      "metadata": {
        "colab": {
          "base_uri": "https://localhost:8080/"
        },
        "id": "r8EtRZ7x0DC5",
        "outputId": "32dd94c1-0a32-47f5-fb1f-8bfeca008d6d"
      },
      "execution_count": null,
      "outputs": [
        {
          "output_type": "stream",
          "name": "stdout",
          "text": [
            "Accuracy: 0.625\n"
          ]
        }
      ]
    },
    {
      "cell_type": "code",
      "source": [
        "from sklearn.metrics import accuracy_score, confusion_matrix, recall_score, f1_score, mean_squared_error"
      ],
      "metadata": {
        "id": "qni3HBBB03Fj"
      },
      "execution_count": null,
      "outputs": []
    },
    {
      "cell_type": "code",
      "source": [
        "accuracy = accuracy_score(test_labels, pred_labels)\n",
        "recall = recall_score(test_labels, pred_labels)\n",
        "f1 = f1_score(test_labels, pred_labels)\n",
        "conf_mat = confusion_matrix(test_labels, pred_labels)\n",
        "mse = mean_squared_error(test_labels, pred_labels)\n",
        "test_err_rate = 1 - accuracy\n",
        "\n",
        "# Print the evaluation metrics\n",
        "print(f\"Accuracy: {accuracy:.4f}\")\n",
        "print(f\"Recall: {recall:.4f}\")\n",
        "print(f\"F1 Score: {f1:.4f}\")\n",
        "print(\"Confusion Matrix:\")\n",
        "print(conf_mat)\n",
        "print(f\"Mean Squared Error: {mse:.4f}\")\n",
        "print(f\"Test Error Rate: {test_err_rate:.4f}\")"
      ],
      "metadata": {
        "colab": {
          "base_uri": "https://localhost:8080/"
        },
        "id": "VRLPEdCB0zBb",
        "outputId": "9b045ee7-ba7a-4530-9948-876deb1f3f63"
      },
      "execution_count": null,
      "outputs": [
        {
          "output_type": "stream",
          "name": "stdout",
          "text": [
            "Accuracy: 0.6250\n",
            "Recall: 0.6667\n",
            "F1 Score: 0.7273\n",
            "Confusion Matrix:\n",
            "[[1 1]\n",
            " [2 4]]\n",
            "Mean Squared Error: 0.3750\n",
            "Test Error Rate: 0.3750\n"
          ]
        }
      ]
    },
    {
      "cell_type": "code",
      "source": [
        "import matplotlib.pyplot as plt\n",
        "import seaborn as sns"
      ],
      "metadata": {
        "id": "3-qGvkpR11O_"
      },
      "execution_count": null,
      "outputs": []
    },
    {
      "cell_type": "code",
      "source": [
        "sns.heatmap(conf_mat, annot=True, cmap=\"Blues\")\n",
        "plt.title(\"Confusion Matrix\")\n",
        "plt.xlabel(\"Predicted Labels\")\n",
        "plt.ylabel(\"True Labels\")\n",
        "plt.show()\n"
      ],
      "metadata": {
        "colab": {
          "base_uri": "https://localhost:8080/",
          "height": 472
        },
        "id": "__MR6OKI1ots",
        "outputId": "7261ec60-7846-4012-e24f-ad09f2bf3426"
      },
      "execution_count": null,
      "outputs": [
        {
          "output_type": "display_data",
          "data": {
            "text/plain": [
              "<Figure size 640x480 with 2 Axes>"
            ],
            "image/png": "[encoded data removed]"
          },
          "metadata": {}
        }
      ]
    },
    {
      "cell_type": "code",
      "source": [
        "from joblib import dump, load"
      ],
      "metadata": {
        "id": "3W62cA8R2my8"
      },
      "execution_count": null,
      "outputs": []
    },
    {
      "cell_type": "code",
      "source": [
        "dump(rfc, 'rfc_model.joblib')"
      ],
      "metadata": {
        "colab": {
          "base_uri": "https://localhost:8080/"
        },
        "id": "vtjXirYk2od1",
        "outputId": "1d3ddeca-3e39-48ae-cbe6-afaa3238c049"
      },
      "execution_count": null,
      "outputs": [
        {
          "output_type": "execute_result",
          "data": {
            "text/plain": [
              "['rfc_model.joblib']"
            ]
          },
          "metadata": {},
          "execution_count": 46
        }
      ]
    },
    {
      "cell_type": "code",
      "source": [
        "rf = load('rfc_model.joblib')"
      ],
      "metadata": {
        "id": "W-XgXyaa2zjJ"
      },
      "execution_count": null,
      "outputs": []
    },
    {
      "cell_type": "code",
      "source": [
        "data = pd.read_csv('/content/drive/MyDrive/205-DOD-tts_all.csv')"
      ],
      "metadata": {
        "id": "T8BrHFHe25VW"
      },
      "execution_count": null,
      "outputs": []
    }
  ]
}